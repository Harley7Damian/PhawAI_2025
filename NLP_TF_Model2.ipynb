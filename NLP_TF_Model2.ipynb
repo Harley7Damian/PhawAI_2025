{
  "nbformat": 4,
  "nbformat_minor": 0,
  "metadata": {
    "colab": {
      "provenance": [],
      "authorship_tag": "ABX9TyMbm5ngEy2vGEWlWIaMznjp",
      "include_colab_link": true
    },
    "kernelspec": {
      "name": "python3",
      "display_name": "Python 3"
    },
    "language_info": {
      "name": "python"
    }
  },
  "cells": [
    {
      "cell_type": "markdown",
      "metadata": {
        "id": "view-in-github",
        "colab_type": "text"
      },
      "source": [
        "<a href=\"https://colab.research.google.com/github/Harley7Damian/PhawAI_2025/blob/NLP/NLP_TF_Model2.ipynb\" target=\"_parent\"><img src=\"https://colab.research.google.com/assets/colab-badge.svg\" alt=\"Open In Colab\"/></a>"
      ]
    },
    {
      "cell_type": "markdown",
      "source": [
        "# **Logistic Regression for Imbalanced Emotion Classification (SMOTE vs Class Weights)**"
      ],
      "metadata": {
        "id": "4igrTv9HUZVO"
      }
    },
    {
      "cell_type": "markdown",
      "source": [
        "#**Montar Google Drive y clonar el repositorio**"
      ],
      "metadata": {
        "id": "UgRogmq-N6vL"
      }
    },
    {
      "cell_type": "code",
      "execution_count": 1,
      "metadata": {
        "colab": {
          "base_uri": "https://localhost:8080/"
        },
        "id": "EH28DV4xLIi6",
        "outputId": "d6c8045c-97f9-405f-9ebf-68a9ae47b8bc"
      },
      "outputs": [
        {
          "output_type": "stream",
          "name": "stdout",
          "text": [
            "Mounted at /content/drive\n",
            "/content/drive/MyDrive\n",
            "fatal: destination path 'EmoEvent' already exists and is not an empty directory.\n",
            "/content/drive/MyDrive/EmoEvent\n"
          ]
        }
      ],
      "source": [
        "from google.colab import drive\n",
        "drive.mount('/content/drive')\n",
        "\n",
        "\n",
        "# Nos movemos a la carpeta de trabajo\n",
        "%cd /content/drive/MyDrive/\n",
        "\n",
        "#Clonamos el repositorio\n",
        "!git clone https://github.com/fmplaza/EmoEvent.git\n",
        "%cd EmoEvent"
      ]
    },
    {
      "cell_type": "markdown",
      "source": [
        "#**Cargar el dataset**"
      ],
      "metadata": {
        "id": "kGvOKhEqN9_b"
      }
    },
    {
      "cell_type": "code",
      "source": [
        "# =============================\n",
        "# 1. Importar librerías\n",
        "# =============================\n",
        "import pandas as pd\n",
        "from sklearn.feature_extraction.text import TfidfVectorizer\n",
        "from sklearn.linear_model import LogisticRegression\n",
        "from sklearn.model_selection import train_test_split\n",
        "from sklearn.metrics import classification_report, accuracy_score"
      ],
      "metadata": {
        "id": "DOO4T6MTOrf1"
      },
      "execution_count": 2,
      "outputs": []
    },
    {
      "cell_type": "code",
      "source": [
        "# =============================\n",
        "# 3. Cargar los datos en español\n",
        "# =============================\n",
        "train_path = \"/content/drive/MyDrive/EmoEvent/splits/es/train.tsv\"\n",
        "dev_path   = \"/content/drive/MyDrive/EmoEvent/splits/es/dev.tsv\"\n",
        "test_path  = \"/content/drive/MyDrive/EmoEvent/splits/es/test.tsv\"\n",
        "\n",
        "train_df = pd.read_csv(train_path, sep=\"\\t\")\n",
        "dev_df   = pd.read_csv(dev_path, sep=\"\\t\")\n",
        "test_df  = pd.read_csv(test_path, sep=\"\\t\")\n",
        "\n",
        "print(\"Train shape:\", train_df.shape)\n",
        "print(\"Dev shape:\", dev_df.shape)\n",
        "print(\"Test shape:\", test_df.shape)"
      ],
      "metadata": {
        "colab": {
          "base_uri": "https://localhost:8080/"
        },
        "id": "jghUOb1fNZqT",
        "outputId": "4f4fe2ab-6af6-4758-ef08-240e092300a8"
      },
      "execution_count": 4,
      "outputs": [
        {
          "output_type": "stream",
          "name": "stdout",
          "text": [
            "Train shape: (5723, 5)\n",
            "Dev shape: (844, 5)\n",
            "Test shape: (1656, 5)\n"
          ]
        }
      ]
    },
    {
      "cell_type": "code",
      "source": [
        "# =============================\n",
        "# 3. Preparar datos\n",
        "# =============================\n",
        "# Entrada: tweet\n",
        "# Etiqueta: emotion\n",
        "X_train = train_df[\"tweet\"]\n",
        "y_train = train_df[\"emotion\"]\n",
        "\n",
        "X_dev = dev_df[\"tweet\"]\n",
        "y_dev = dev_df[\"emotion\"]\n",
        "\n",
        "X_test = test_df[\"tweet\"]\n",
        "y_test = test_df[\"emotion\"]"
      ],
      "metadata": {
        "id": "RCrpMv3cTht7"
      },
      "execution_count": 5,
      "outputs": []
    },
    {
      "cell_type": "code",
      "source": [
        "print(X_test.isnull().sum())"
      ],
      "metadata": {
        "colab": {
          "base_uri": "https://localhost:8080/"
        },
        "id": "yc_OT63lXg_c",
        "outputId": "aae70f67-9cad-4bae-85ca-97926e6bb740"
      },
      "execution_count": 6,
      "outputs": [
        {
          "output_type": "stream",
          "name": "stdout",
          "text": [
            "30\n"
          ]
        }
      ]
    },
    {
      "cell_type": "code",
      "source": [
        "# Reemplazar NaN con texto vacío\n",
        "X_train = X_train.fillna(\"\")\n",
        "X_dev = X_dev.fillna(\"\")\n",
        "X_test = X_test.fillna(\"\")"
      ],
      "metadata": {
        "id": "XovMcgl0Xf4b"
      },
      "execution_count": 22,
      "outputs": []
    },
    {
      "cell_type": "code",
      "source": [
        "# =============================\n",
        "# 4. Vectorización TF-IDF\n",
        "# =============================\n",
        "vectorizer = TfidfVectorizer(max_features=5000, ngram_range=(1,2)) # de 5000 a 1000\n",
        "X_train_vec = vectorizer.fit_transform(X_train)\n",
        "X_dev_vec = vectorizer.transform(X_dev)\n",
        "X_test_vec = vectorizer.transform(X_test)"
      ],
      "metadata": {
        "id": "_5mWZdM4TvDS"
      },
      "execution_count": 27,
      "outputs": []
    },
    {
      "cell_type": "markdown",
      "source": [],
      "metadata": {
        "id": "wuAJcjR2N0ko"
      }
    },
    {
      "cell_type": "code",
      "source": [
        "# =============================\n",
        "# @title Modelo: Regresión Logística con class_weight\n",
        "# =============================\n",
        "model_balanced = LogisticRegression(\n",
        "    max_iter=200,\n",
        "    solver=\"lbfgs\",\n",
        "    multi_class=\"auto\",\n",
        "    class_weight=\"balanced\"  # <-- balanceo automático\n",
        ")\n",
        "model_balanced.fit(X_train_vec, y_train)"
      ],
      "metadata": {
        "id": "fj9US1lhUr7b",
        "colab": {
          "base_uri": "https://localhost:8080/",
          "height": 136
        },
        "outputId": "d8844886-636b-4ccb-f087-eaabfc210dfe"
      },
      "execution_count": 14,
      "outputs": [
        {
          "output_type": "stream",
          "name": "stderr",
          "text": [
            "/usr/local/lib/python3.12/dist-packages/sklearn/linear_model/_logistic.py:1247: FutureWarning: 'multi_class' was deprecated in version 1.5 and will be removed in 1.7. From then on, it will always use 'multinomial'. Leave it to its default value to avoid this warning.\n",
            "  warnings.warn(\n"
          ]
        },
        {
          "output_type": "execute_result",
          "data": {
            "text/plain": [
              "LogisticRegression(class_weight='balanced', max_iter=200, multi_class='auto')"
            ],
            "text/html": [
              "<style>#sk-container-id-2 {\n",
              "  /* Definition of color scheme common for light and dark mode */\n",
              "  --sklearn-color-text: #000;\n",
              "  --sklearn-color-text-muted: #666;\n",
              "  --sklearn-color-line: gray;\n",
              "  /* Definition of color scheme for unfitted estimators */\n",
              "  --sklearn-color-unfitted-level-0: #fff5e6;\n",
              "  --sklearn-color-unfitted-level-1: #f6e4d2;\n",
              "  --sklearn-color-unfitted-level-2: #ffe0b3;\n",
              "  --sklearn-color-unfitted-level-3: chocolate;\n",
              "  /* Definition of color scheme for fitted estimators */\n",
              "  --sklearn-color-fitted-level-0: #f0f8ff;\n",
              "  --sklearn-color-fitted-level-1: #d4ebff;\n",
              "  --sklearn-color-fitted-level-2: #b3dbfd;\n",
              "  --sklearn-color-fitted-level-3: cornflowerblue;\n",
              "\n",
              "  /* Specific color for light theme */\n",
              "  --sklearn-color-text-on-default-background: var(--sg-text-color, var(--theme-code-foreground, var(--jp-content-font-color1, black)));\n",
              "  --sklearn-color-background: var(--sg-background-color, var(--theme-background, var(--jp-layout-color0, white)));\n",
              "  --sklearn-color-border-box: var(--sg-text-color, var(--theme-code-foreground, var(--jp-content-font-color1, black)));\n",
              "  --sklearn-color-icon: #696969;\n",
              "\n",
              "  @media (prefers-color-scheme: dark) {\n",
              "    /* Redefinition of color scheme for dark theme */\n",
              "    --sklearn-color-text-on-default-background: var(--sg-text-color, var(--theme-code-foreground, var(--jp-content-font-color1, white)));\n",
              "    --sklearn-color-background: var(--sg-background-color, var(--theme-background, var(--jp-layout-color0, #111)));\n",
              "    --sklearn-color-border-box: var(--sg-text-color, var(--theme-code-foreground, var(--jp-content-font-color1, white)));\n",
              "    --sklearn-color-icon: #878787;\n",
              "  }\n",
              "}\n",
              "\n",
              "#sk-container-id-2 {\n",
              "  color: var(--sklearn-color-text);\n",
              "}\n",
              "\n",
              "#sk-container-id-2 pre {\n",
              "  padding: 0;\n",
              "}\n",
              "\n",
              "#sk-container-id-2 input.sk-hidden--visually {\n",
              "  border: 0;\n",
              "  clip: rect(1px 1px 1px 1px);\n",
              "  clip: rect(1px, 1px, 1px, 1px);\n",
              "  height: 1px;\n",
              "  margin: -1px;\n",
              "  overflow: hidden;\n",
              "  padding: 0;\n",
              "  position: absolute;\n",
              "  width: 1px;\n",
              "}\n",
              "\n",
              "#sk-container-id-2 div.sk-dashed-wrapped {\n",
              "  border: 1px dashed var(--sklearn-color-line);\n",
              "  margin: 0 0.4em 0.5em 0.4em;\n",
              "  box-sizing: border-box;\n",
              "  padding-bottom: 0.4em;\n",
              "  background-color: var(--sklearn-color-background);\n",
              "}\n",
              "\n",
              "#sk-container-id-2 div.sk-container {\n",
              "  /* jupyter's `normalize.less` sets `[hidden] { display: none; }`\n",
              "     but bootstrap.min.css set `[hidden] { display: none !important; }`\n",
              "     so we also need the `!important` here to be able to override the\n",
              "     default hidden behavior on the sphinx rendered scikit-learn.org.\n",
              "     See: https://github.com/scikit-learn/scikit-learn/issues/21755 */\n",
              "  display: inline-block !important;\n",
              "  position: relative;\n",
              "}\n",
              "\n",
              "#sk-container-id-2 div.sk-text-repr-fallback {\n",
              "  display: none;\n",
              "}\n",
              "\n",
              "div.sk-parallel-item,\n",
              "div.sk-serial,\n",
              "div.sk-item {\n",
              "  /* draw centered vertical line to link estimators */\n",
              "  background-image: linear-gradient(var(--sklearn-color-text-on-default-background), var(--sklearn-color-text-on-default-background));\n",
              "  background-size: 2px 100%;\n",
              "  background-repeat: no-repeat;\n",
              "  background-position: center center;\n",
              "}\n",
              "\n",
              "/* Parallel-specific style estimator block */\n",
              "\n",
              "#sk-container-id-2 div.sk-parallel-item::after {\n",
              "  content: \"\";\n",
              "  width: 100%;\n",
              "  border-bottom: 2px solid var(--sklearn-color-text-on-default-background);\n",
              "  flex-grow: 1;\n",
              "}\n",
              "\n",
              "#sk-container-id-2 div.sk-parallel {\n",
              "  display: flex;\n",
              "  align-items: stretch;\n",
              "  justify-content: center;\n",
              "  background-color: var(--sklearn-color-background);\n",
              "  position: relative;\n",
              "}\n",
              "\n",
              "#sk-container-id-2 div.sk-parallel-item {\n",
              "  display: flex;\n",
              "  flex-direction: column;\n",
              "}\n",
              "\n",
              "#sk-container-id-2 div.sk-parallel-item:first-child::after {\n",
              "  align-self: flex-end;\n",
              "  width: 50%;\n",
              "}\n",
              "\n",
              "#sk-container-id-2 div.sk-parallel-item:last-child::after {\n",
              "  align-self: flex-start;\n",
              "  width: 50%;\n",
              "}\n",
              "\n",
              "#sk-container-id-2 div.sk-parallel-item:only-child::after {\n",
              "  width: 0;\n",
              "}\n",
              "\n",
              "/* Serial-specific style estimator block */\n",
              "\n",
              "#sk-container-id-2 div.sk-serial {\n",
              "  display: flex;\n",
              "  flex-direction: column;\n",
              "  align-items: center;\n",
              "  background-color: var(--sklearn-color-background);\n",
              "  padding-right: 1em;\n",
              "  padding-left: 1em;\n",
              "}\n",
              "\n",
              "\n",
              "/* Toggleable style: style used for estimator/Pipeline/ColumnTransformer box that is\n",
              "clickable and can be expanded/collapsed.\n",
              "- Pipeline and ColumnTransformer use this feature and define the default style\n",
              "- Estimators will overwrite some part of the style using the `sk-estimator` class\n",
              "*/\n",
              "\n",
              "/* Pipeline and ColumnTransformer style (default) */\n",
              "\n",
              "#sk-container-id-2 div.sk-toggleable {\n",
              "  /* Default theme specific background. It is overwritten whether we have a\n",
              "  specific estimator or a Pipeline/ColumnTransformer */\n",
              "  background-color: var(--sklearn-color-background);\n",
              "}\n",
              "\n",
              "/* Toggleable label */\n",
              "#sk-container-id-2 label.sk-toggleable__label {\n",
              "  cursor: pointer;\n",
              "  display: flex;\n",
              "  width: 100%;\n",
              "  margin-bottom: 0;\n",
              "  padding: 0.5em;\n",
              "  box-sizing: border-box;\n",
              "  text-align: center;\n",
              "  align-items: start;\n",
              "  justify-content: space-between;\n",
              "  gap: 0.5em;\n",
              "}\n",
              "\n",
              "#sk-container-id-2 label.sk-toggleable__label .caption {\n",
              "  font-size: 0.6rem;\n",
              "  font-weight: lighter;\n",
              "  color: var(--sklearn-color-text-muted);\n",
              "}\n",
              "\n",
              "#sk-container-id-2 label.sk-toggleable__label-arrow:before {\n",
              "  /* Arrow on the left of the label */\n",
              "  content: \"▸\";\n",
              "  float: left;\n",
              "  margin-right: 0.25em;\n",
              "  color: var(--sklearn-color-icon);\n",
              "}\n",
              "\n",
              "#sk-container-id-2 label.sk-toggleable__label-arrow:hover:before {\n",
              "  color: var(--sklearn-color-text);\n",
              "}\n",
              "\n",
              "/* Toggleable content - dropdown */\n",
              "\n",
              "#sk-container-id-2 div.sk-toggleable__content {\n",
              "  max-height: 0;\n",
              "  max-width: 0;\n",
              "  overflow: hidden;\n",
              "  text-align: left;\n",
              "  /* unfitted */\n",
              "  background-color: var(--sklearn-color-unfitted-level-0);\n",
              "}\n",
              "\n",
              "#sk-container-id-2 div.sk-toggleable__content.fitted {\n",
              "  /* fitted */\n",
              "  background-color: var(--sklearn-color-fitted-level-0);\n",
              "}\n",
              "\n",
              "#sk-container-id-2 div.sk-toggleable__content pre {\n",
              "  margin: 0.2em;\n",
              "  border-radius: 0.25em;\n",
              "  color: var(--sklearn-color-text);\n",
              "  /* unfitted */\n",
              "  background-color: var(--sklearn-color-unfitted-level-0);\n",
              "}\n",
              "\n",
              "#sk-container-id-2 div.sk-toggleable__content.fitted pre {\n",
              "  /* unfitted */\n",
              "  background-color: var(--sklearn-color-fitted-level-0);\n",
              "}\n",
              "\n",
              "#sk-container-id-2 input.sk-toggleable__control:checked~div.sk-toggleable__content {\n",
              "  /* Expand drop-down */\n",
              "  max-height: 200px;\n",
              "  max-width: 100%;\n",
              "  overflow: auto;\n",
              "}\n",
              "\n",
              "#sk-container-id-2 input.sk-toggleable__control:checked~label.sk-toggleable__label-arrow:before {\n",
              "  content: \"▾\";\n",
              "}\n",
              "\n",
              "/* Pipeline/ColumnTransformer-specific style */\n",
              "\n",
              "#sk-container-id-2 div.sk-label input.sk-toggleable__control:checked~label.sk-toggleable__label {\n",
              "  color: var(--sklearn-color-text);\n",
              "  background-color: var(--sklearn-color-unfitted-level-2);\n",
              "}\n",
              "\n",
              "#sk-container-id-2 div.sk-label.fitted input.sk-toggleable__control:checked~label.sk-toggleable__label {\n",
              "  background-color: var(--sklearn-color-fitted-level-2);\n",
              "}\n",
              "\n",
              "/* Estimator-specific style */\n",
              "\n",
              "/* Colorize estimator box */\n",
              "#sk-container-id-2 div.sk-estimator input.sk-toggleable__control:checked~label.sk-toggleable__label {\n",
              "  /* unfitted */\n",
              "  background-color: var(--sklearn-color-unfitted-level-2);\n",
              "}\n",
              "\n",
              "#sk-container-id-2 div.sk-estimator.fitted input.sk-toggleable__control:checked~label.sk-toggleable__label {\n",
              "  /* fitted */\n",
              "  background-color: var(--sklearn-color-fitted-level-2);\n",
              "}\n",
              "\n",
              "#sk-container-id-2 div.sk-label label.sk-toggleable__label,\n",
              "#sk-container-id-2 div.sk-label label {\n",
              "  /* The background is the default theme color */\n",
              "  color: var(--sklearn-color-text-on-default-background);\n",
              "}\n",
              "\n",
              "/* On hover, darken the color of the background */\n",
              "#sk-container-id-2 div.sk-label:hover label.sk-toggleable__label {\n",
              "  color: var(--sklearn-color-text);\n",
              "  background-color: var(--sklearn-color-unfitted-level-2);\n",
              "}\n",
              "\n",
              "/* Label box, darken color on hover, fitted */\n",
              "#sk-container-id-2 div.sk-label.fitted:hover label.sk-toggleable__label.fitted {\n",
              "  color: var(--sklearn-color-text);\n",
              "  background-color: var(--sklearn-color-fitted-level-2);\n",
              "}\n",
              "\n",
              "/* Estimator label */\n",
              "\n",
              "#sk-container-id-2 div.sk-label label {\n",
              "  font-family: monospace;\n",
              "  font-weight: bold;\n",
              "  display: inline-block;\n",
              "  line-height: 1.2em;\n",
              "}\n",
              "\n",
              "#sk-container-id-2 div.sk-label-container {\n",
              "  text-align: center;\n",
              "}\n",
              "\n",
              "/* Estimator-specific */\n",
              "#sk-container-id-2 div.sk-estimator {\n",
              "  font-family: monospace;\n",
              "  border: 1px dotted var(--sklearn-color-border-box);\n",
              "  border-radius: 0.25em;\n",
              "  box-sizing: border-box;\n",
              "  margin-bottom: 0.5em;\n",
              "  /* unfitted */\n",
              "  background-color: var(--sklearn-color-unfitted-level-0);\n",
              "}\n",
              "\n",
              "#sk-container-id-2 div.sk-estimator.fitted {\n",
              "  /* fitted */\n",
              "  background-color: var(--sklearn-color-fitted-level-0);\n",
              "}\n",
              "\n",
              "/* on hover */\n",
              "#sk-container-id-2 div.sk-estimator:hover {\n",
              "  /* unfitted */\n",
              "  background-color: var(--sklearn-color-unfitted-level-2);\n",
              "}\n",
              "\n",
              "#sk-container-id-2 div.sk-estimator.fitted:hover {\n",
              "  /* fitted */\n",
              "  background-color: var(--sklearn-color-fitted-level-2);\n",
              "}\n",
              "\n",
              "/* Specification for estimator info (e.g. \"i\" and \"?\") */\n",
              "\n",
              "/* Common style for \"i\" and \"?\" */\n",
              "\n",
              ".sk-estimator-doc-link,\n",
              "a:link.sk-estimator-doc-link,\n",
              "a:visited.sk-estimator-doc-link {\n",
              "  float: right;\n",
              "  font-size: smaller;\n",
              "  line-height: 1em;\n",
              "  font-family: monospace;\n",
              "  background-color: var(--sklearn-color-background);\n",
              "  border-radius: 1em;\n",
              "  height: 1em;\n",
              "  width: 1em;\n",
              "  text-decoration: none !important;\n",
              "  margin-left: 0.5em;\n",
              "  text-align: center;\n",
              "  /* unfitted */\n",
              "  border: var(--sklearn-color-unfitted-level-1) 1pt solid;\n",
              "  color: var(--sklearn-color-unfitted-level-1);\n",
              "}\n",
              "\n",
              ".sk-estimator-doc-link.fitted,\n",
              "a:link.sk-estimator-doc-link.fitted,\n",
              "a:visited.sk-estimator-doc-link.fitted {\n",
              "  /* fitted */\n",
              "  border: var(--sklearn-color-fitted-level-1) 1pt solid;\n",
              "  color: var(--sklearn-color-fitted-level-1);\n",
              "}\n",
              "\n",
              "/* On hover */\n",
              "div.sk-estimator:hover .sk-estimator-doc-link:hover,\n",
              ".sk-estimator-doc-link:hover,\n",
              "div.sk-label-container:hover .sk-estimator-doc-link:hover,\n",
              ".sk-estimator-doc-link:hover {\n",
              "  /* unfitted */\n",
              "  background-color: var(--sklearn-color-unfitted-level-3);\n",
              "  color: var(--sklearn-color-background);\n",
              "  text-decoration: none;\n",
              "}\n",
              "\n",
              "div.sk-estimator.fitted:hover .sk-estimator-doc-link.fitted:hover,\n",
              ".sk-estimator-doc-link.fitted:hover,\n",
              "div.sk-label-container:hover .sk-estimator-doc-link.fitted:hover,\n",
              ".sk-estimator-doc-link.fitted:hover {\n",
              "  /* fitted */\n",
              "  background-color: var(--sklearn-color-fitted-level-3);\n",
              "  color: var(--sklearn-color-background);\n",
              "  text-decoration: none;\n",
              "}\n",
              "\n",
              "/* Span, style for the box shown on hovering the info icon */\n",
              ".sk-estimator-doc-link span {\n",
              "  display: none;\n",
              "  z-index: 9999;\n",
              "  position: relative;\n",
              "  font-weight: normal;\n",
              "  right: .2ex;\n",
              "  padding: .5ex;\n",
              "  margin: .5ex;\n",
              "  width: min-content;\n",
              "  min-width: 20ex;\n",
              "  max-width: 50ex;\n",
              "  color: var(--sklearn-color-text);\n",
              "  box-shadow: 2pt 2pt 4pt #999;\n",
              "  /* unfitted */\n",
              "  background: var(--sklearn-color-unfitted-level-0);\n",
              "  border: .5pt solid var(--sklearn-color-unfitted-level-3);\n",
              "}\n",
              "\n",
              ".sk-estimator-doc-link.fitted span {\n",
              "  /* fitted */\n",
              "  background: var(--sklearn-color-fitted-level-0);\n",
              "  border: var(--sklearn-color-fitted-level-3);\n",
              "}\n",
              "\n",
              ".sk-estimator-doc-link:hover span {\n",
              "  display: block;\n",
              "}\n",
              "\n",
              "/* \"?\"-specific style due to the `<a>` HTML tag */\n",
              "\n",
              "#sk-container-id-2 a.estimator_doc_link {\n",
              "  float: right;\n",
              "  font-size: 1rem;\n",
              "  line-height: 1em;\n",
              "  font-family: monospace;\n",
              "  background-color: var(--sklearn-color-background);\n",
              "  border-radius: 1rem;\n",
              "  height: 1rem;\n",
              "  width: 1rem;\n",
              "  text-decoration: none;\n",
              "  /* unfitted */\n",
              "  color: var(--sklearn-color-unfitted-level-1);\n",
              "  border: var(--sklearn-color-unfitted-level-1) 1pt solid;\n",
              "}\n",
              "\n",
              "#sk-container-id-2 a.estimator_doc_link.fitted {\n",
              "  /* fitted */\n",
              "  border: var(--sklearn-color-fitted-level-1) 1pt solid;\n",
              "  color: var(--sklearn-color-fitted-level-1);\n",
              "}\n",
              "\n",
              "/* On hover */\n",
              "#sk-container-id-2 a.estimator_doc_link:hover {\n",
              "  /* unfitted */\n",
              "  background-color: var(--sklearn-color-unfitted-level-3);\n",
              "  color: var(--sklearn-color-background);\n",
              "  text-decoration: none;\n",
              "}\n",
              "\n",
              "#sk-container-id-2 a.estimator_doc_link.fitted:hover {\n",
              "  /* fitted */\n",
              "  background-color: var(--sklearn-color-fitted-level-3);\n",
              "}\n",
              "</style><div id=\"sk-container-id-2\" class=\"sk-top-container\"><div class=\"sk-text-repr-fallback\"><pre>LogisticRegression(class_weight=&#x27;balanced&#x27;, max_iter=200, multi_class=&#x27;auto&#x27;)</pre><b>In a Jupyter environment, please rerun this cell to show the HTML representation or trust the notebook. <br />On GitHub, the HTML representation is unable to render, please try loading this page with nbviewer.org.</b></div><div class=\"sk-container\" hidden><div class=\"sk-item\"><div class=\"sk-estimator fitted sk-toggleable\"><input class=\"sk-toggleable__control sk-hidden--visually\" id=\"sk-estimator-id-2\" type=\"checkbox\" checked><label for=\"sk-estimator-id-2\" class=\"sk-toggleable__label fitted sk-toggleable__label-arrow\"><div><div>LogisticRegression</div></div><div><a class=\"sk-estimator-doc-link fitted\" rel=\"noreferrer\" target=\"_blank\" href=\"https://scikit-learn.org/1.6/modules/generated/sklearn.linear_model.LogisticRegression.html\">?<span>Documentation for LogisticRegression</span></a><span class=\"sk-estimator-doc-link fitted\">i<span>Fitted</span></span></div></label><div class=\"sk-toggleable__content fitted\"><pre>LogisticRegression(class_weight=&#x27;balanced&#x27;, max_iter=200, multi_class=&#x27;auto&#x27;)</pre></div> </div></div></div></div>"
            ]
          },
          "metadata": {},
          "execution_count": 14
        }
      ]
    },
    {
      "cell_type": "code",
      "source": [
        "# =============================\n",
        "# @title Evaluación en Dev\n",
        "# =============================\n",
        "y_dev_pred = model_balanced.predict(X_dev_vec)\n",
        "print(\"==== Evaluación en Dev ====\")\n",
        "print(classification_report(y_dev, y_dev_pred))"
      ],
      "metadata": {
        "id": "b3YCP3RuUv9b",
        "colab": {
          "base_uri": "https://localhost:8080/"
        },
        "outputId": "8de16aa3-8a51-44bc-f754-b1c8e9ea7ceb"
      },
      "execution_count": 15,
      "outputs": [
        {
          "output_type": "stream",
          "name": "stdout",
          "text": [
            "==== Evaluación en Dev ====\n",
            "              precision    recall  f1-score   support\n",
            "\n",
            "       anger       0.33      0.47      0.39        85\n",
            "     disgust       0.07      0.19      0.10        16\n",
            "        fear       0.29      0.67      0.40         9\n",
            "         joy       0.48      0.57      0.52       181\n",
            "      others       0.75      0.45      0.56       414\n",
            "     sadness       0.66      0.67      0.67       104\n",
            "    surprise       0.13      0.34      0.19        35\n",
            "\n",
            "    accuracy                           0.50       844\n",
            "   macro avg       0.39      0.48      0.40       844\n",
            "weighted avg       0.60      0.50      0.52       844\n",
            "\n"
          ]
        }
      ]
    },
    {
      "cell_type": "code",
      "source": [
        "from sklearn.metrics import confusion_matrix, ConfusionMatrixDisplay"
      ],
      "metadata": {
        "id": "Ihd19f71Q5OZ"
      },
      "execution_count": 39,
      "outputs": []
    },
    {
      "cell_type": "code",
      "source": [
        "# @title Matriz de confusión en Dev\n",
        "cm_dev = confusion_matrix(y_dev, y_dev_pred)\n",
        "ConfusionMatrixDisplay(cm_dev).plot(cmap=\"Blues\")"
      ],
      "metadata": {
        "colab": {
          "base_uri": "https://localhost:8080/",
          "height": 467
        },
        "id": "9hX73BMGQTKI",
        "outputId": "c6ba1353-5433-4d7b-cdae-8f52081ded5e"
      },
      "execution_count": 40,
      "outputs": [
        {
          "output_type": "execute_result",
          "data": {
            "text/plain": [
              "<sklearn.metrics._plot.confusion_matrix.ConfusionMatrixDisplay at 0x786c05790590>"
            ]
          },
          "metadata": {},
          "execution_count": 40
        },
        {
          "output_type": "display_data",
          "data": {
            "text/plain": [
              "<Figure size 640x480 with 2 Axes>"
            ],
            "image/png": "[encoded data removed]"
          },
          "metadata": {}
        }
      ]
    },
    {
      "cell_type": "code",
      "source": [
        "# @title Reporte de clasificación por emoción\n",
        "# =============================\n",
        "# 7. Evaluación en Test final\n",
        "# =============================\n",
        "y_test_pred = model_balanced.predict(X_test_vec)\n",
        "print(\"==== Evaluación en Test ====\")\n",
        "print(classification_report(y_test, y_test_pred))"
      ],
      "metadata": {
        "id": "mIIgXfAfU0cU",
        "colab": {
          "base_uri": "https://localhost:8080/"
        },
        "outputId": "6a6299a9-4268-44ec-a95b-64a8e42e726e"
      },
      "execution_count": 16,
      "outputs": [
        {
          "output_type": "stream",
          "name": "stdout",
          "text": [
            "==== Evaluación en Test ====\n",
            "              precision    recall  f1-score   support\n",
            "\n",
            "       anger       0.10      0.15      0.12       168\n",
            "     disgust       0.03      0.09      0.05        33\n",
            "        fear       0.02      0.05      0.02        21\n",
            "         joy       0.25      0.26      0.25       354\n",
            "      others       0.50      0.33      0.40       814\n",
            "     sadness       0.13      0.13      0.13       199\n",
            "    surprise       0.04      0.10      0.06        67\n",
            "\n",
            "    accuracy                           0.26      1656\n",
            "   macro avg       0.15      0.16      0.15      1656\n",
            "weighted avg       0.33      0.26      0.28      1656\n",
            "\n"
          ]
        }
      ]
    },
    {
      "cell_type": "code",
      "source": [
        "# @title Matriz de confusión en Test\n",
        "cm_test = confusion_matrix(y_test, y_test_pred)\n",
        "ConfusionMatrixDisplay(cm_test).plot(cmap=\"Blues\")"
      ],
      "metadata": {
        "colab": {
          "base_uri": "https://localhost:8080/",
          "height": 467
        },
        "id": "bFNnDjNmQS-4",
        "outputId": "709f51b6-3347-4e33-f64a-7f8cb9b04afa"
      },
      "execution_count": 41,
      "outputs": [
        {
          "output_type": "execute_result",
          "data": {
            "text/plain": [
              "<sklearn.metrics._plot.confusion_matrix.ConfusionMatrixDisplay at 0x786c052bb470>"
            ]
          },
          "metadata": {},
          "execution_count": 41
        },
        {
          "output_type": "display_data",
          "data": {
            "text/plain": [
              "<Figure size 640x480 with 2 Axes>"
            ],
            "image/png": "[encoded data removed]"
          },
          "metadata": {}
        }
      ]
    },
    {
      "cell_type": "markdown",
      "source": [
        "### **Modelo multi-clase con desbalance aceptable y confiable:**\n",
        "* **F1 macro ≥ 0.60**\n",
        "* Cada clase logre **precision y recall ≥ 0.60** (sin dejar clases olvidadas).\n",
        "\n",
        "> *Si logras ≥ 0.70 en F1 macro*, ya se considera robusto y aplicable en entornos prácticos."
      ],
      "metadata": {
        "id": "2JJGTKtyKw__"
      }
    },
    {
      "cell_type": "markdown",
      "source": [
        "##🔎 **Análisis de resultados (Regresión logística + TF-IDF)**\n",
        "\n",
        "* Precisión baja en clases minoritarias → el modelo favorece la clase mayoritaria.\n",
        "* Desbalance en dataset → recall y f1-score muestran que las clases poco representadas casi no se predicen.\n",
        "* Overfitting moderado → training accuracy > validation accuracy.\n",
        "* Palabras poco discriminativas → TF-IDF no captura bien el contexto semántico.\n",
        "\n",
        "## 🛠️ **Mejoras sugeridas**\n",
        "\n",
        "* Balanceo de clases: aplicar oversampling (SMOTE) o class_weight=\"balanced\".\n",
        "* Optimizar TF-IDF: ajustar ngram_range, max_features y min_df.\n",
        "* Regularización: tunear parámetro C en Logistic Regression.\n",
        "* Feature Engineering: probar stopwords, lematización o selección de palabras clave.\n",
        "* Comparación de modelos: evaluar Naive Bayes y SVM como referencia.\n",
        "* Validación más robusta: usar cross-validation para resultados más confiables."
      ],
      "metadata": {
        "id": "U8QDhnpyGn-e"
      }
    },
    {
      "cell_type": "code",
      "source": [
        "import matplotlib.pyplot as plt\n",
        "import seaborn as sns\n",
        "import numpy as np\n",
        "\n",
        "# =============================\n",
        "# 1. Distribución de clases original (Train, Dev, Test)\n",
        "# =============================\n",
        "fig, axes = plt.subplots(1, 3, figsize=(18,5))\n",
        "\n",
        "sns.countplot(x=y_train, ax=axes[0])\n",
        "axes[0].set_title(\"Distribución original - Train\")\n",
        "\n",
        "sns.countplot(x=y_dev, ax=axes[1])\n",
        "axes[1].set_title(\"Distribución - Dev\")\n",
        "\n",
        "sns.countplot(x=y_test, ax=axes[2])\n",
        "axes[2].set_title(\"Distribución - Test\")\n",
        "\n",
        "plt.show()"
      ],
      "metadata": {
        "colab": {
          "base_uri": "https://localhost:8080/",
          "height": 430
        },
        "id": "VfNAPa1oNHfH",
        "outputId": "056435a7-d161-4398-bdbd-aa8dc59323f3"
      },
      "execution_count": 17,
      "outputs": [
        {
          "output_type": "display_data",
          "data": {
            "text/plain": [
              "<Figure size 1800x500 with 3 Axes>"
            ],
            "image/png": "[encoded data removed]"
          },
          "metadata": {}
        }
      ]
    },
    {
      "cell_type": "code",
      "source": [
        "# =============================\n",
        "# @title Oversampling con SMOTE\n",
        "# =============================\n",
        "from imblearn.over_sampling import SMOTE\n",
        "\n",
        "smote = SMOTE(random_state=42)\n",
        "X_train_res, y_train_res = smote.fit_resample(X_train_vec, y_train)"
      ],
      "metadata": {
        "id": "h0bx11pmU2xy"
      },
      "execution_count": 28,
      "outputs": []
    },
    {
      "cell_type": "code",
      "source": [
        "# Modelo sin class_weight porque ya balanceamos con SMOTE\n",
        "model_smote = LogisticRegression(max_iter=200, solver=\"lbfgs\", multi_class=\"auto\")\n",
        "model_smote.fit(X_train_res, y_train_res)"
      ],
      "metadata": {
        "colab": {
          "base_uri": "https://localhost:8080/",
          "height": 136
        },
        "id": "b8U2P2vUOHkX",
        "outputId": "b1ce935b-1b66-40b8-8073-023831933a4a"
      },
      "execution_count": 29,
      "outputs": [
        {
          "output_type": "stream",
          "name": "stderr",
          "text": [
            "/usr/local/lib/python3.12/dist-packages/sklearn/linear_model/_logistic.py:1247: FutureWarning: 'multi_class' was deprecated in version 1.5 and will be removed in 1.7. From then on, it will always use 'multinomial'. Leave it to its default value to avoid this warning.\n",
            "  warnings.warn(\n"
          ]
        },
        {
          "output_type": "execute_result",
          "data": {
            "text/plain": [
              "LogisticRegression(max_iter=200, multi_class='auto')"
            ],
            "text/html": [
              "<style>#sk-container-id-3 {\n",
              "  /* Definition of color scheme common for light and dark mode */\n",
              "  --sklearn-color-text: #000;\n",
              "  --sklearn-color-text-muted: #666;\n",
              "  --sklearn-color-line: gray;\n",
              "  /* Definition of color scheme for unfitted estimators */\n",
              "  --sklearn-color-unfitted-level-0: #fff5e6;\n",
              "  --sklearn-color-unfitted-level-1: #f6e4d2;\n",
              "  --sklearn-color-unfitted-level-2: #ffe0b3;\n",
              "  --sklearn-color-unfitted-level-3: chocolate;\n",
              "  /* Definition of color scheme for fitted estimators */\n",
              "  --sklearn-color-fitted-level-0: #f0f8ff;\n",
              "  --sklearn-color-fitted-level-1: #d4ebff;\n",
              "  --sklearn-color-fitted-level-2: #b3dbfd;\n",
              "  --sklearn-color-fitted-level-3: cornflowerblue;\n",
              "\n",
              "  /* Specific color for light theme */\n",
              "  --sklearn-color-text-on-default-background: var(--sg-text-color, var(--theme-code-foreground, var(--jp-content-font-color1, black)));\n",
              "  --sklearn-color-background: var(--sg-background-color, var(--theme-background, var(--jp-layout-color0, white)));\n",
              "  --sklearn-color-border-box: var(--sg-text-color, var(--theme-code-foreground, var(--jp-content-font-color1, black)));\n",
              "  --sklearn-color-icon: #696969;\n",
              "\n",
              "  @media (prefers-color-scheme: dark) {\n",
              "    /* Redefinition of color scheme for dark theme */\n",
              "    --sklearn-color-text-on-default-background: var(--sg-text-color, var(--theme-code-foreground, var(--jp-content-font-color1, white)));\n",
              "    --sklearn-color-background: var(--sg-background-color, var(--theme-background, var(--jp-layout-color0, #111)));\n",
              "    --sklearn-color-border-box: var(--sg-text-color, var(--theme-code-foreground, var(--jp-content-font-color1, white)));\n",
              "    --sklearn-color-icon: #878787;\n",
              "  }\n",
              "}\n",
              "\n",
              "#sk-container-id-3 {\n",
              "  color: var(--sklearn-color-text);\n",
              "}\n",
              "\n",
              "#sk-container-id-3 pre {\n",
              "  padding: 0;\n",
              "}\n",
              "\n",
              "#sk-container-id-3 input.sk-hidden--visually {\n",
              "  border: 0;\n",
              "  clip: rect(1px 1px 1px 1px);\n",
              "  clip: rect(1px, 1px, 1px, 1px);\n",
              "  height: 1px;\n",
              "  margin: -1px;\n",
              "  overflow: hidden;\n",
              "  padding: 0;\n",
              "  position: absolute;\n",
              "  width: 1px;\n",
              "}\n",
              "\n",
              "#sk-container-id-3 div.sk-dashed-wrapped {\n",
              "  border: 1px dashed var(--sklearn-color-line);\n",
              "  margin: 0 0.4em 0.5em 0.4em;\n",
              "  box-sizing: border-box;\n",
              "  padding-bottom: 0.4em;\n",
              "  background-color: var(--sklearn-color-background);\n",
              "}\n",
              "\n",
              "#sk-container-id-3 div.sk-container {\n",
              "  /* jupyter's `normalize.less` sets `[hidden] { display: none; }`\n",
              "     but bootstrap.min.css set `[hidden] { display: none !important; }`\n",
              "     so we also need the `!important` here to be able to override the\n",
              "     default hidden behavior on the sphinx rendered scikit-learn.org.\n",
              "     See: https://github.com/scikit-learn/scikit-learn/issues/21755 */\n",
              "  display: inline-block !important;\n",
              "  position: relative;\n",
              "}\n",
              "\n",
              "#sk-container-id-3 div.sk-text-repr-fallback {\n",
              "  display: none;\n",
              "}\n",
              "\n",
              "div.sk-parallel-item,\n",
              "div.sk-serial,\n",
              "div.sk-item {\n",
              "  /* draw centered vertical line to link estimators */\n",
              "  background-image: linear-gradient(var(--sklearn-color-text-on-default-background), var(--sklearn-color-text-on-default-background));\n",
              "  background-size: 2px 100%;\n",
              "  background-repeat: no-repeat;\n",
              "  background-position: center center;\n",
              "}\n",
              "\n",
              "/* Parallel-specific style estimator block */\n",
              "\n",
              "#sk-container-id-3 div.sk-parallel-item::after {\n",
              "  content: \"\";\n",
              "  width: 100%;\n",
              "  border-bottom: 2px solid var(--sklearn-color-text-on-default-background);\n",
              "  flex-grow: 1;\n",
              "}\n",
              "\n",
              "#sk-container-id-3 div.sk-parallel {\n",
              "  display: flex;\n",
              "  align-items: stretch;\n",
              "  justify-content: center;\n",
              "  background-color: var(--sklearn-color-background);\n",
              "  position: relative;\n",
              "}\n",
              "\n",
              "#sk-container-id-3 div.sk-parallel-item {\n",
              "  display: flex;\n",
              "  flex-direction: column;\n",
              "}\n",
              "\n",
              "#sk-container-id-3 div.sk-parallel-item:first-child::after {\n",
              "  align-self: flex-end;\n",
              "  width: 50%;\n",
              "}\n",
              "\n",
              "#sk-container-id-3 div.sk-parallel-item:last-child::after {\n",
              "  align-self: flex-start;\n",
              "  width: 50%;\n",
              "}\n",
              "\n",
              "#sk-container-id-3 div.sk-parallel-item:only-child::after {\n",
              "  width: 0;\n",
              "}\n",
              "\n",
              "/* Serial-specific style estimator block */\n",
              "\n",
              "#sk-container-id-3 div.sk-serial {\n",
              "  display: flex;\n",
              "  flex-direction: column;\n",
              "  align-items: center;\n",
              "  background-color: var(--sklearn-color-background);\n",
              "  padding-right: 1em;\n",
              "  padding-left: 1em;\n",
              "}\n",
              "\n",
              "\n",
              "/* Toggleable style: style used for estimator/Pipeline/ColumnTransformer box that is\n",
              "clickable and can be expanded/collapsed.\n",
              "- Pipeline and ColumnTransformer use this feature and define the default style\n",
              "- Estimators will overwrite some part of the style using the `sk-estimator` class\n",
              "*/\n",
              "\n",
              "/* Pipeline and ColumnTransformer style (default) */\n",
              "\n",
              "#sk-container-id-3 div.sk-toggleable {\n",
              "  /* Default theme specific background. It is overwritten whether we have a\n",
              "  specific estimator or a Pipeline/ColumnTransformer */\n",
              "  background-color: var(--sklearn-color-background);\n",
              "}\n",
              "\n",
              "/* Toggleable label */\n",
              "#sk-container-id-3 label.sk-toggleable__label {\n",
              "  cursor: pointer;\n",
              "  display: flex;\n",
              "  width: 100%;\n",
              "  margin-bottom: 0;\n",
              "  padding: 0.5em;\n",
              "  box-sizing: border-box;\n",
              "  text-align: center;\n",
              "  align-items: start;\n",
              "  justify-content: space-between;\n",
              "  gap: 0.5em;\n",
              "}\n",
              "\n",
              "#sk-container-id-3 label.sk-toggleable__label .caption {\n",
              "  font-size: 0.6rem;\n",
              "  font-weight: lighter;\n",
              "  color: var(--sklearn-color-text-muted);\n",
              "}\n",
              "\n",
              "#sk-container-id-3 label.sk-toggleable__label-arrow:before {\n",
              "  /* Arrow on the left of the label */\n",
              "  content: \"▸\";\n",
              "  float: left;\n",
              "  margin-right: 0.25em;\n",
              "  color: var(--sklearn-color-icon);\n",
              "}\n",
              "\n",
              "#sk-container-id-3 label.sk-toggleable__label-arrow:hover:before {\n",
              "  color: var(--sklearn-color-text);\n",
              "}\n",
              "\n",
              "/* Toggleable content - dropdown */\n",
              "\n",
              "#sk-container-id-3 div.sk-toggleable__content {\n",
              "  max-height: 0;\n",
              "  max-width: 0;\n",
              "  overflow: hidden;\n",
              "  text-align: left;\n",
              "  /* unfitted */\n",
              "  background-color: var(--sklearn-color-unfitted-level-0);\n",
              "}\n",
              "\n",
              "#sk-container-id-3 div.sk-toggleable__content.fitted {\n",
              "  /* fitted */\n",
              "  background-color: var(--sklearn-color-fitted-level-0);\n",
              "}\n",
              "\n",
              "#sk-container-id-3 div.sk-toggleable__content pre {\n",
              "  margin: 0.2em;\n",
              "  border-radius: 0.25em;\n",
              "  color: var(--sklearn-color-text);\n",
              "  /* unfitted */\n",
              "  background-color: var(--sklearn-color-unfitted-level-0);\n",
              "}\n",
              "\n",
              "#sk-container-id-3 div.sk-toggleable__content.fitted pre {\n",
              "  /* unfitted */\n",
              "  background-color: var(--sklearn-color-fitted-level-0);\n",
              "}\n",
              "\n",
              "#sk-container-id-3 input.sk-toggleable__control:checked~div.sk-toggleable__content {\n",
              "  /* Expand drop-down */\n",
              "  max-height: 200px;\n",
              "  max-width: 100%;\n",
              "  overflow: auto;\n",
              "}\n",
              "\n",
              "#sk-container-id-3 input.sk-toggleable__control:checked~label.sk-toggleable__label-arrow:before {\n",
              "  content: \"▾\";\n",
              "}\n",
              "\n",
              "/* Pipeline/ColumnTransformer-specific style */\n",
              "\n",
              "#sk-container-id-3 div.sk-label input.sk-toggleable__control:checked~label.sk-toggleable__label {\n",
              "  color: var(--sklearn-color-text);\n",
              "  background-color: var(--sklearn-color-unfitted-level-2);\n",
              "}\n",
              "\n",
              "#sk-container-id-3 div.sk-label.fitted input.sk-toggleable__control:checked~label.sk-toggleable__label {\n",
              "  background-color: var(--sklearn-color-fitted-level-2);\n",
              "}\n",
              "\n",
              "/* Estimator-specific style */\n",
              "\n",
              "/* Colorize estimator box */\n",
              "#sk-container-id-3 div.sk-estimator input.sk-toggleable__control:checked~label.sk-toggleable__label {\n",
              "  /* unfitted */\n",
              "  background-color: var(--sklearn-color-unfitted-level-2);\n",
              "}\n",
              "\n",
              "#sk-container-id-3 div.sk-estimator.fitted input.sk-toggleable__control:checked~label.sk-toggleable__label {\n",
              "  /* fitted */\n",
              "  background-color: var(--sklearn-color-fitted-level-2);\n",
              "}\n",
              "\n",
              "#sk-container-id-3 div.sk-label label.sk-toggleable__label,\n",
              "#sk-container-id-3 div.sk-label label {\n",
              "  /* The background is the default theme color */\n",
              "  color: var(--sklearn-color-text-on-default-background);\n",
              "}\n",
              "\n",
              "/* On hover, darken the color of the background */\n",
              "#sk-container-id-3 div.sk-label:hover label.sk-toggleable__label {\n",
              "  color: var(--sklearn-color-text);\n",
              "  background-color: var(--sklearn-color-unfitted-level-2);\n",
              "}\n",
              "\n",
              "/* Label box, darken color on hover, fitted */\n",
              "#sk-container-id-3 div.sk-label.fitted:hover label.sk-toggleable__label.fitted {\n",
              "  color: var(--sklearn-color-text);\n",
              "  background-color: var(--sklearn-color-fitted-level-2);\n",
              "}\n",
              "\n",
              "/* Estimator label */\n",
              "\n",
              "#sk-container-id-3 div.sk-label label {\n",
              "  font-family: monospace;\n",
              "  font-weight: bold;\n",
              "  display: inline-block;\n",
              "  line-height: 1.2em;\n",
              "}\n",
              "\n",
              "#sk-container-id-3 div.sk-label-container {\n",
              "  text-align: center;\n",
              "}\n",
              "\n",
              "/* Estimator-specific */\n",
              "#sk-container-id-3 div.sk-estimator {\n",
              "  font-family: monospace;\n",
              "  border: 1px dotted var(--sklearn-color-border-box);\n",
              "  border-radius: 0.25em;\n",
              "  box-sizing: border-box;\n",
              "  margin-bottom: 0.5em;\n",
              "  /* unfitted */\n",
              "  background-color: var(--sklearn-color-unfitted-level-0);\n",
              "}\n",
              "\n",
              "#sk-container-id-3 div.sk-estimator.fitted {\n",
              "  /* fitted */\n",
              "  background-color: var(--sklearn-color-fitted-level-0);\n",
              "}\n",
              "\n",
              "/* on hover */\n",
              "#sk-container-id-3 div.sk-estimator:hover {\n",
              "  /* unfitted */\n",
              "  background-color: var(--sklearn-color-unfitted-level-2);\n",
              "}\n",
              "\n",
              "#sk-container-id-3 div.sk-estimator.fitted:hover {\n",
              "  /* fitted */\n",
              "  background-color: var(--sklearn-color-fitted-level-2);\n",
              "}\n",
              "\n",
              "/* Specification for estimator info (e.g. \"i\" and \"?\") */\n",
              "\n",
              "/* Common style for \"i\" and \"?\" */\n",
              "\n",
              ".sk-estimator-doc-link,\n",
              "a:link.sk-estimator-doc-link,\n",
              "a:visited.sk-estimator-doc-link {\n",
              "  float: right;\n",
              "  font-size: smaller;\n",
              "  line-height: 1em;\n",
              "  font-family: monospace;\n",
              "  background-color: var(--sklearn-color-background);\n",
              "  border-radius: 1em;\n",
              "  height: 1em;\n",
              "  width: 1em;\n",
              "  text-decoration: none !important;\n",
              "  margin-left: 0.5em;\n",
              "  text-align: center;\n",
              "  /* unfitted */\n",
              "  border: var(--sklearn-color-unfitted-level-1) 1pt solid;\n",
              "  color: var(--sklearn-color-unfitted-level-1);\n",
              "}\n",
              "\n",
              ".sk-estimator-doc-link.fitted,\n",
              "a:link.sk-estimator-doc-link.fitted,\n",
              "a:visited.sk-estimator-doc-link.fitted {\n",
              "  /* fitted */\n",
              "  border: var(--sklearn-color-fitted-level-1) 1pt solid;\n",
              "  color: var(--sklearn-color-fitted-level-1);\n",
              "}\n",
              "\n",
              "/* On hover */\n",
              "div.sk-estimator:hover .sk-estimator-doc-link:hover,\n",
              ".sk-estimator-doc-link:hover,\n",
              "div.sk-label-container:hover .sk-estimator-doc-link:hover,\n",
              ".sk-estimator-doc-link:hover {\n",
              "  /* unfitted */\n",
              "  background-color: var(--sklearn-color-unfitted-level-3);\n",
              "  color: var(--sklearn-color-background);\n",
              "  text-decoration: none;\n",
              "}\n",
              "\n",
              "div.sk-estimator.fitted:hover .sk-estimator-doc-link.fitted:hover,\n",
              ".sk-estimator-doc-link.fitted:hover,\n",
              "div.sk-label-container:hover .sk-estimator-doc-link.fitted:hover,\n",
              ".sk-estimator-doc-link.fitted:hover {\n",
              "  /* fitted */\n",
              "  background-color: var(--sklearn-color-fitted-level-3);\n",
              "  color: var(--sklearn-color-background);\n",
              "  text-decoration: none;\n",
              "}\n",
              "\n",
              "/* Span, style for the box shown on hovering the info icon */\n",
              ".sk-estimator-doc-link span {\n",
              "  display: none;\n",
              "  z-index: 9999;\n",
              "  position: relative;\n",
              "  font-weight: normal;\n",
              "  right: .2ex;\n",
              "  padding: .5ex;\n",
              "  margin: .5ex;\n",
              "  width: min-content;\n",
              "  min-width: 20ex;\n",
              "  max-width: 50ex;\n",
              "  color: var(--sklearn-color-text);\n",
              "  box-shadow: 2pt 2pt 4pt #999;\n",
              "  /* unfitted */\n",
              "  background: var(--sklearn-color-unfitted-level-0);\n",
              "  border: .5pt solid var(--sklearn-color-unfitted-level-3);\n",
              "}\n",
              "\n",
              ".sk-estimator-doc-link.fitted span {\n",
              "  /* fitted */\n",
              "  background: var(--sklearn-color-fitted-level-0);\n",
              "  border: var(--sklearn-color-fitted-level-3);\n",
              "}\n",
              "\n",
              ".sk-estimator-doc-link:hover span {\n",
              "  display: block;\n",
              "}\n",
              "\n",
              "/* \"?\"-specific style due to the `<a>` HTML tag */\n",
              "\n",
              "#sk-container-id-3 a.estimator_doc_link {\n",
              "  float: right;\n",
              "  font-size: 1rem;\n",
              "  line-height: 1em;\n",
              "  font-family: monospace;\n",
              "  background-color: var(--sklearn-color-background);\n",
              "  border-radius: 1rem;\n",
              "  height: 1rem;\n",
              "  width: 1rem;\n",
              "  text-decoration: none;\n",
              "  /* unfitted */\n",
              "  color: var(--sklearn-color-unfitted-level-1);\n",
              "  border: var(--sklearn-color-unfitted-level-1) 1pt solid;\n",
              "}\n",
              "\n",
              "#sk-container-id-3 a.estimator_doc_link.fitted {\n",
              "  /* fitted */\n",
              "  border: var(--sklearn-color-fitted-level-1) 1pt solid;\n",
              "  color: var(--sklearn-color-fitted-level-1);\n",
              "}\n",
              "\n",
              "/* On hover */\n",
              "#sk-container-id-3 a.estimator_doc_link:hover {\n",
              "  /* unfitted */\n",
              "  background-color: var(--sklearn-color-unfitted-level-3);\n",
              "  color: var(--sklearn-color-background);\n",
              "  text-decoration: none;\n",
              "}\n",
              "\n",
              "#sk-container-id-3 a.estimator_doc_link.fitted:hover {\n",
              "  /* fitted */\n",
              "  background-color: var(--sklearn-color-fitted-level-3);\n",
              "}\n",
              "</style><div id=\"sk-container-id-3\" class=\"sk-top-container\"><div class=\"sk-text-repr-fallback\"><pre>LogisticRegression(max_iter=200, multi_class=&#x27;auto&#x27;)</pre><b>In a Jupyter environment, please rerun this cell to show the HTML representation or trust the notebook. <br />On GitHub, the HTML representation is unable to render, please try loading this page with nbviewer.org.</b></div><div class=\"sk-container\" hidden><div class=\"sk-item\"><div class=\"sk-estimator fitted sk-toggleable\"><input class=\"sk-toggleable__control sk-hidden--visually\" id=\"sk-estimator-id-3\" type=\"checkbox\" checked><label for=\"sk-estimator-id-3\" class=\"sk-toggleable__label fitted sk-toggleable__label-arrow\"><div><div>LogisticRegression</div></div><div><a class=\"sk-estimator-doc-link fitted\" rel=\"noreferrer\" target=\"_blank\" href=\"https://scikit-learn.org/1.6/modules/generated/sklearn.linear_model.LogisticRegression.html\">?<span>Documentation for LogisticRegression</span></a><span class=\"sk-estimator-doc-link fitted\">i<span>Fitted</span></span></div></label><div class=\"sk-toggleable__content fitted\"><pre>LogisticRegression(max_iter=200, multi_class=&#x27;auto&#x27;)</pre></div> </div></div></div></div>"
            ]
          },
          "metadata": {},
          "execution_count": 29
        }
      ]
    },
    {
      "cell_type": "code",
      "source": [
        "# =============================\n",
        "# 3. Distribución balanceada en Train\n",
        "# =============================\n",
        "plt.figure(figsize=(6,4))\n",
        "sns.countplot(x=y_train_res)\n",
        "plt.title(\"Distribución balanceada con SMOTE - Train\")\n",
        "plt.show()"
      ],
      "metadata": {
        "id": "ZPnIcz9gU4iK",
        "colab": {
          "base_uri": "https://localhost:8080/",
          "height": 410
        },
        "outputId": "f7eaab32-bc9b-43df-f3bc-7fc07ca26675"
      },
      "execution_count": 30,
      "outputs": [
        {
          "output_type": "display_data",
          "data": {
            "text/plain": [
              "<Figure size 600x400 with 1 Axes>"
            ],
            "image/png": "[encoded data removed]"
          },
          "metadata": {}
        }
      ]
    },
    {
      "cell_type": "code",
      "source": [
        "# =============================\n",
        "# 6. Evaluación en Dev\n",
        "# =============================\n",
        "y_dev_pred_smote = model_smote.predict(X_dev_vec)\n",
        "print(\"==== Evaluación en Dev (SMOTE) ====\")\n",
        "print(classification_report(y_dev, y_dev_pred_smote))"
      ],
      "metadata": {
        "id": "kp7Ncim0U6QL",
        "colab": {
          "base_uri": "https://localhost:8080/"
        },
        "outputId": "eb65e916-4aa7-4655-c51c-5338504fe731"
      },
      "execution_count": 31,
      "outputs": [
        {
          "output_type": "stream",
          "name": "stdout",
          "text": [
            "==== Evaluación en Dev (SMOTE) ====\n",
            "              precision    recall  f1-score   support\n",
            "\n",
            "       anger       0.40      0.55      0.46        85\n",
            "     disgust       0.12      0.06      0.08        16\n",
            "        fear       0.86      0.67      0.75         9\n",
            "         joy       0.52      0.57      0.55       181\n",
            "      others       0.74      0.62      0.67       414\n",
            "     sadness       0.65      0.67      0.66       104\n",
            "    surprise       0.19      0.31      0.23        35\n",
            "\n",
            "    accuracy                           0.59       844\n",
            "   macro avg       0.50      0.49      0.49       844\n",
            "weighted avg       0.61      0.59      0.59       844\n",
            "\n"
          ]
        }
      ]
    },
    {
      "cell_type": "code",
      "source": [
        "# @title Matriz de confusión en Dev\n",
        "cm_dev_smote = confusion_matrix(y_dev, y_dev_pred_smote)\n",
        "ConfusionMatrixDisplay(cm_dev_smote).plot(cmap=\"Oranges\")"
      ],
      "metadata": {
        "colab": {
          "base_uri": "https://localhost:8080/",
          "height": 467
        },
        "id": "TaxfUut0RZAi",
        "outputId": "800c82f8-6dd8-4658-f412-54de11234b6f"
      },
      "execution_count": 43,
      "outputs": [
        {
          "output_type": "execute_result",
          "data": {
            "text/plain": [
              "<sklearn.metrics._plot.confusion_matrix.ConfusionMatrixDisplay at 0x786c056a3ec0>"
            ]
          },
          "metadata": {},
          "execution_count": 43
        },
        {
          "output_type": "display_data",
          "data": {
            "text/plain": [
              "<Figure size 640x480 with 2 Axes>"
            ],
            "image/png": "[encoded data removed]"
          },
          "metadata": {}
        }
      ]
    },
    {
      "cell_type": "code",
      "source": [
        "# =============================\n",
        "# 7. Evaluación en Test final\n",
        "# =============================\n",
        "y_test_pred_smote = model_smote.predict(X_test_vec)\n",
        "print(\"==== Evaluación en Test (SMOTE) ====\")\n",
        "print(classification_report(y_test, y_test_pred_smote))"
      ],
      "metadata": {
        "colab": {
          "base_uri": "https://localhost:8080/"
        },
        "id": "-Dy5yw45Nn17",
        "outputId": "094bad95-6032-4e10-8745-12ee48fe3e80"
      },
      "execution_count": 33,
      "outputs": [
        {
          "output_type": "stream",
          "name": "stdout",
          "text": [
            "==== Evaluación en Test (SMOTE) ====\n",
            "              precision    recall  f1-score   support\n",
            "\n",
            "       anger       0.11      0.15      0.13       168\n",
            "     disgust       0.03      0.03      0.03        33\n",
            "        fear       0.00      0.00      0.00        21\n",
            "         joy       0.26      0.25      0.25       354\n",
            "      others       0.50      0.46      0.48       814\n",
            "     sadness       0.13      0.13      0.13       199\n",
            "    surprise       0.03      0.04      0.04        67\n",
            "\n",
            "    accuracy                           0.31      1656\n",
            "   macro avg       0.15      0.15      0.15      1656\n",
            "weighted avg       0.33      0.31      0.32      1656\n",
            "\n"
          ]
        }
      ]
    },
    {
      "cell_type": "code",
      "source": [
        "# @title Matriz de confusión (Test)\n",
        "cm_test_smote = confusion_matrix(y_test, y_test_pred_smote)\n",
        "ConfusionMatrixDisplay(cm_test_smote).plot(cmap=\"Oranges\")"
      ],
      "metadata": {
        "colab": {
          "base_uri": "https://localhost:8080/",
          "height": 467
        },
        "id": "6CygzsOWRZVw",
        "outputId": "4b21c59b-03d7-499b-bad5-98825255992a"
      },
      "execution_count": 44,
      "outputs": [
        {
          "output_type": "execute_result",
          "data": {
            "text/plain": [
              "<sklearn.metrics._plot.confusion_matrix.ConfusionMatrixDisplay at 0x786c055b8590>"
            ]
          },
          "metadata": {},
          "execution_count": 44
        },
        {
          "output_type": "display_data",
          "data": {
            "text/plain": [
              "<Figure size 640x480 with 2 Axes>"
            ],
            "image/png": "[encoded data removed]"
          },
          "metadata": {}
        }
      ]
    },
    {
      "cell_type": "markdown",
      "source": [
        "## **Resultados con class_weight=\"balanced\"**\n",
        "\n",
        "* Accuracy: 0.26\n",
        "* F1 macro: 0.15\n",
        "* Mejores clases: others (0.40 F1) y joy (0.25 F1).\n",
        "* Varias clases siguen con F1 muy bajo (fear, disgust, surprise).\n",
        "\n",
        "## **Resultados con SMOTE**\n",
        "\n",
        "* Accuracy: 0.31 (+0.05, mejora clara).\n",
        "* F1 macro: 0.15 (similar, no mejora en promedio).\n",
        "* Others mejora en recall → F1 sube a 0.48 (vs. 0.40).\n",
        "* Joy se mantiene estable (0.25).\n",
        "* Fear se cae a 0.00 (pierde completamente).\n",
        "* Otras minoritarias (disgust, surprise) apenas mejoran o empeoran.\n",
        "\n",
        "### ✅ **Conclusión**\n",
        "> **SMOTE mejora la accuracy global** (0.26 → 0.31) gracias a mejor desempeño en la clase mayoritaria (others).\n",
        "Pero no mejora el macro-F1 (balance entre clases), porque sigue sin aprender bien las minoritarias (incluso fear cae a 0).\n",
        "\n",
        "> * *Mejor para accuracy (dataset balanceado hacia la mayoría).*\n",
        "\n",
        "> **class_weight mantiene** un poco más de señal en minoritarias, aunque globalmente tiene menor accuracy.\n",
        "\n",
        "> * *Más justo con clases minoritarias, aunque con menor rendimiento global.*"
      ],
      "metadata": {
        "id": "szDc_mg-PDBI"
      }
    },
    {
      "cell_type": "code",
      "source": [
        "# ================================\n",
        "# @title Evaluación por evento (Dev)\n",
        "# ================================\n",
        "df_dev_results = pd.DataFrame({\n",
        "    \"Texto\": X_dev,  # tu lista de frases originales\n",
        "    \"Real\": y_dev,\n",
        "    \"Predicho_class_weight\": y_dev_pred,\n",
        "    \"Predicho_SMOTE\": y_dev_pred_smote\n",
        "})\n",
        "\n",
        "# Mostrar ejemplos de errores\n",
        "errores_class_weight = df_dev_results[df_dev_results[\"Real\"] != df_dev_results[\"Predicho_class_weight\"]]\n",
        "errores_smote = df_dev_results[df_dev_results[\"Real\"] != df_dev_results[\"Predicho_SMOTE\"]]\n",
        "\n",
        "print(\"=== Ejemplos de errores (class_weight) ===\")\n",
        "print(errores_class_weight.sample(10))  # muestras aleatorias de errores\n",
        "print(\"\\n=== Ejemplos de errores (SMOTE) ===\")\n",
        "print(errores_smote.sample(10))"
      ],
      "metadata": {
        "colab": {
          "base_uri": "https://localhost:8080/"
        },
        "id": "m1qPFs7ZRZTD",
        "outputId": "a9065f40-8f45-48e4-d787-8cc0971fa80e"
      },
      "execution_count": 46,
      "outputs": [
        {
          "output_type": "stream",
          "name": "stdout",
          "text": [
            "=== Ejemplos de errores (class_weight) ===\n",
            "                                                 Texto     Real  \\\n",
            "350  Si matan otro dragón yo dejo de ver esta mierd...    anger   \n",
            "79   #Messi come solo en su mesita en el sofa... va...   others   \n",
            "392  En ocasiones de gol deben estar ahí, bien pare...   others   \n",
            "287   USER “Este es el corrupto, ilegítimo régimen ...  disgust   \n",
            "751  #LibroFavorito de autor chileno \"El obsceno pá...      joy   \n",
            "817   USER USER Madre mía! Solo ver el Gif ya me ha...   others   \n",
            "372  #ElecccionesGenerales28A tenemos lo que nos me...  sadness   \n",
            "267  Hasta que no haya 3 millones de parados más (2...  sadness   \n",
            "700  Quién crees que va a morirá esta noche? Espera...   others   \n",
            "415  Las cosas claras, NOTRE DAME la a quemado el d...   others   \n",
            "\n",
            "    Predicho_class_weight Predicho_SMOTE  \n",
            "350              surprise       surprise  \n",
            "79                  anger         others  \n",
            "392                   joy            joy  \n",
            "287                 anger          anger  \n",
            "751                others            joy  \n",
            "817              surprise       surprise  \n",
            "372              surprise       surprise  \n",
            "267                 anger          anger  \n",
            "700              surprise         others  \n",
            "415               sadness        sadness  \n",
            "\n",
            "=== Ejemplos de errores (SMOTE) ===\n",
            "                                                 Texto     Real  \\\n",
            "305  #ChampionsLeague Cuando me preguntan por qué M...   others   \n",
            "253  A esta hora, los votantes del PSOE que hayan v...   others   \n",
            "666  El mejor capítulo de #JuegodeTronos de lejos, ...      joy   \n",
            "613  Andar por twitter para ver los comentarios sob...   others   \n",
            "337  El mejor homenaje es el recuerdo. Es tiempo de...      joy   \n",
            "405  El capítulo de esta semana (8x3) de Juego de T...      joy   \n",
            "552  La millonaria familia Pinault compromete 100 m...      joy   \n",
            "380  #DiaDelLibro En ese entonces estaba en boca de...      joy   \n",
            "686  ALA MIERDA!! Pedazo de gol que acaba de meter ...    anger   \n",
            "632  #ElecccionesGenerales28A y ahora USER llorando...  sadness   \n",
            "\n",
            "    Predicho_class_weight Predicho_SMOTE  \n",
            "305                   joy            joy  \n",
            "253              surprise       surprise  \n",
            "666              surprise       surprise  \n",
            "613                 anger        sadness  \n",
            "337                others         others  \n",
            "405              surprise       surprise  \n",
            "552               sadness         others  \n",
            "380                others         others  \n",
            "686               disgust       surprise  \n",
            "632                others         others  \n"
          ]
        }
      ]
    },
    {
      "cell_type": "code",
      "source": [
        "# ================================\n",
        "# @title Evaluación por evento (Dev)\n",
        "# ================================\n",
        "df_dev_results = pd.DataFrame({\n",
        "    \"Texto\": X_dev,  # tu lista de frases originales\n",
        "    \"Real\": y_dev,\n",
        "    \"Predicho_class_weight\": y_dev_pred,\n",
        "    \"Predicho_SMOTE\": y_dev_pred_smote\n",
        "})\n",
        "\n",
        "# Mostrar ejemplos de errores\n",
        "errores_class_weight = df_dev_results[df_dev_results[\"Real\"] != df_dev_results[\"Predicho_class_weight\"]]\n",
        "errores_smote = df_dev_results[df_dev_results[\"Real\"] != df_dev_results[\"Predicho_SMOTE\"]]\n",
        "\n",
        "print(\"=== Ejemplos de errores (class_weight) ===\")\n",
        "print(errores_class_weight.sample(10))  # muestras aleatorias de errores\n",
        "print(\"\\n=== Ejemplos de errores (SMOTE) ===\")\n",
        "print(errores_smote.sample(10))"
      ],
      "metadata": {
        "id": "HY1MbHjxRZQZ"
      },
      "execution_count": null,
      "outputs": []
    },
    {
      "cell_type": "code",
      "source": [
        "# ================================\n",
        "# @title Evaluación por evento (Test)\n",
        "# ================================\n",
        "df_test_results = pd.DataFrame({\n",
        "    \"Texto\": X_test,  # tu lista de frases originales\n",
        "    \"Real\": y_test,\n",
        "    \"Predicho_class_weight\": y_test_pred,\n",
        "    \"Predicho_SMOTE\": y_test_pred_smote\n",
        "})\n",
        "\n",
        "# Mostrar ejemplos de errores\n",
        "errores_class_weight_test = df_test_results[df_test_results[\"Real\"] != df_test_results[\"Predicho_class_weight\"]]\n",
        "errores_smote_test = df_test_results[df_test_results[\"Real\"] != df_test_results[\"Predicho_SMOTE\"]]\n",
        "\n",
        "print(\"=== Ejemplos de errores (class_weight) ===\")\n",
        "print(errores_class_weight_test.sample(10))  # muestras aleatorias de errores\n",
        "print(\"\\n=== Ejemplos de errores (SMOTE) ===\")\n",
        "print(errores_smote_test.sample(10))"
      ],
      "metadata": {
        "colab": {
          "base_uri": "https://localhost:8080/"
        },
        "id": "KL98xI_rRX-4",
        "outputId": "69ec2921-69f2-4073-8e05-6257917b04d5"
      },
      "execution_count": 49,
      "outputs": [
        {
          "output_type": "stream",
          "name": "stdout",
          "text": [
            "=== Ejemplos de errores (class_weight) ===\n",
            "                                                  Texto     Real  \\\n",
            "17    Que le pasa abonos tibios como USER que defien...    anger   \n",
            "159   Igual que sus muros acogieron nuestras voces, ...    anger   \n",
            "1647                                                     sadness   \n",
            "993   #Theon es el MVP del tercer episodio de #Juego...   others   \n",
            "1180  Ni un grado mas, con esta fotografía de 360 gr...    anger   \n",
            "699   #ElecccionesGenerales28A #EleccionesL6. España...   others   \n",
            "663   USER ..... Excelente y limpio apoyo en #Champi...  sadness   \n",
            "912   D1OS El PUTOO amo del fútbol #Messi600 #Messi ...   others   \n",
            "355   Hoy es el #DiaDelLibro y os traemos nuevos tít...  disgust   \n",
            "1625  El emocionado discurso de la activista ecologi...      joy   \n",
            "\n",
            "     Predicho_class_weight Predicho_SMOTE  \n",
            "17                surprise         others  \n",
            "159                sadness        sadness  \n",
            "1647                others         others  \n",
            "993               surprise         others  \n",
            "1180                others         others  \n",
            "699                    joy            joy  \n",
            "663                 others         others  \n",
            "912                    joy            joy  \n",
            "355                    joy            joy  \n",
            "1625                others         others  \n",
            "\n",
            "=== Ejemplos de errores (SMOTE) ===\n",
            "                                                  Texto    Real  \\\n",
            "769   ¡Los cuentos nos permiten soñar y aprender! 📖 ...  others   \n",
            "812   Hay que ser muy basura para no comprarse cualq...   anger   \n",
            "1517  #notredame #monumento #paris #todosconnotredam...  others   \n",
            "190   Me gusta la idea de amontonar libros como recu...   anger   \n",
            "1392  Huele a pucherazo... aún así seguiremos tenien...   anger   \n",
            "339   🏆🔴🔵 #Barcelona es campeón de #LaLiga! 🔵🔴🏆 🇦🇷 C...  others   \n",
            "815   hoy es el único día de mi vida en que quiero v...   anger   \n",
            "953   Mejor el Liverpool pero en el fútbol no se gan...     joy   \n",
            "919   EN LOS ÚLTIMOS AÑOS, EL BARCELONA, UNA MÁQUINA...  others   \n",
            "98    USER Y que triste que cada vez se lee menos. L...   anger   \n",
            "\n",
            "     Predicho_class_weight Predicho_SMOTE  \n",
            "769                 others            joy  \n",
            "812                 others         others  \n",
            "1517               sadness        sadness  \n",
            "190                    joy         others  \n",
            "1392                   joy            joy  \n",
            "339                    joy            joy  \n",
            "815                    joy            joy  \n",
            "953                 others         others  \n",
            "919                    joy            joy  \n",
            "98                 sadness        sadness  \n"
          ]
        }
      ]
    },
    {
      "cell_type": "markdown",
      "source": [
        "##🔎 **Observaciones de errores con class_weight**\n",
        "\n",
        "Confusiones frecuentes:\n",
        "  * anger ↔ surprise\n",
        "  * sadness ↔ surprise\n",
        "  * joy ↔ others\n",
        "\n",
        "Patrón claro:\n",
        "* El modelo tiende a “tirar” muchas predicciones hacia surprise y others, incluso cuando el texto refleja claramente emociones negativas (anger, sadness, disgust).\n",
        "\n",
        "> *Posible causa: el **modelo** está **sobreajustando** a clases frecuentes o ambiguas (others, surprise), porque no logra distinguir las señales lingüísticas más sutiles de emociones minoritarias.*\n",
        "\n",
        "\n",
        "##🔎 **Observaciones de errores con SMOTE**\n",
        "\n",
        "Confusiones aún más dispersas:\n",
        "  *  joy confundida con surprise o others.\n",
        "  *  anger confundida con disgust o surprise.\n",
        "  *  sadness confundida con others.\n",
        "\n",
        "Patrón claro:\n",
        "* El modelo genera más ruido sintético que claridad real. Termina confundiendo textos evidentes (joy, anger) y diluye el aprendizaje.\n",
        "\n",
        "> *Posible causa: al **forzar equilibrio** con SMOTE, **el modelo aprendió ejemplos “artificiales”** poco representativos → aumenta recall en clases chicas, pero baja la precisión en las grandes.*\n",
        "\n",
        "\n",
        "## **Conclusiones comparativas**\n",
        "\n",
        "* Class_weight → aunque confunde, mantiene un comportamiento más “estable” y predecible. Sus errores se concentran en surprise y others.\n",
        "* SMOTE → introduce mayor variabilidad y ruido, afectando especialmente clases grandes como joy y others.\n",
        "\n",
        "En ambos casos, se evidencia que el modelo no logra separar bien emociones negativas (anger, disgust, sadness), probablemente por el solapamiento semántico en el dataset y la simplicidad del modelo TF-IDF + regresión logística."
      ],
      "metadata": {
        "id": "OmUjdNYZSvzS"
      }
    }
  ]
}