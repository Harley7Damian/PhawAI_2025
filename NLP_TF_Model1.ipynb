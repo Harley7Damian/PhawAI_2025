{
  "nbformat": 4,
  "nbformat_minor": 0,
  "metadata": {
    "colab": {
      "provenance": [],
      "authorship_tag": "ABX9TyNfu5zEWyYtr2BmHQhV/hyE",
      "include_colab_link": true
    },
    "kernelspec": {
      "name": "python3",
      "display_name": "Python 3"
    },
    "language_info": {
      "name": "python"
    }
  },
  "cells": [
    {
      "cell_type": "markdown",
      "metadata": {
        "id": "view-in-github",
        "colab_type": "text"
      },
      "source": [
        "<a href=\"https://colab.research.google.com/github/Harley7Damian/PhawAI_2025/blob/NLP/NLP_TF_Model1.ipynb\" target=\"_parent\"><img src=\"https://colab.research.google.com/assets/colab-badge.svg\" alt=\"Open In Colab\"/></a>"
      ]
    },
    {
      "cell_type": "markdown",
      "source": [
        "# **Prototipo de LSTM con oversampling**"
      ],
      "metadata": {
        "id": "vboTzj3gNK8w"
      }
    },
    {
      "cell_type": "code",
      "source": [
        "# ============================\n",
        "# @title Montar Google Drive\n",
        "# ============================\n",
        "from google.colab import drive\n",
        "drive.mount('/content/drive')\n",
        "\n",
        "# Justificación:\n",
        "# Montamos Google Drive para:\n",
        "#   - Acceder a los datasets que tengamos guardados en nuestra unidad.\n",
        "#   - Guardar resultados intermedios (pesos, métricas, logs) de forma persistente,\n",
        "#     ya que el entorno de Colab se reinicia y los datos locales se pierden.\n",
        "\n",
        "# ============================\n",
        "# 2. Clonar repositorio oficial\n",
        "# ============================\n",
        "%cd /content/drive/MyDrive/\n",
        "\n",
        "!git clone https://github.com/fmplaza/EmoEvent.git\n",
        "%cd EmoEvent\n",
        "\n",
        "# Justificación:\n",
        "# Clonamos el repositorio EmoEvent directamente desde GitHub porque:\n",
        "#   - Contiene los scripts base y la estructura definida para trabajar con los datos.\n",
        "#   - Nos aseguramos de usar exactamente la misma configuración y splits\n",
        "#     que los autores del benchmark.\n",
        "#   - Esto evita inconsistencias entre entornos."
      ],
      "metadata": {
        "colab": {
          "base_uri": "https://localhost:8080/"
        },
        "id": "bnqFCKFhnHPW",
        "outputId": "7591f2b3-5294-40b9-9671-09d9e25c5fae"
      },
      "execution_count": 1,
      "outputs": [
        {
          "output_type": "stream",
          "name": "stdout",
          "text": [
            "Mounted at /content/drive\n",
            "/content/drive/MyDrive\n",
            "fatal: destination path 'EmoEvent' already exists and is not an empty directory.\n",
            "/content/drive/MyDrive/EmoEvent\n"
          ]
        }
      ]
    },
    {
      "cell_type": "code",
      "source": [
        "# ============================\n",
        "# @title Preparar rutas de trabajo\n",
        "# ============================\n",
        "import os\n",
        "import pandas as pd\n",
        "\n",
        "# Rutas de los splits en español\n",
        "train_path = \"/content/drive/MyDrive/EmoEvent/splits/es/train.tsv\"\n",
        "dev_path   = \"/content/drive/MyDrive/EmoEvent/splits/es/dev.tsv\"\n",
        "test_path  = \"/content/drive/MyDrive/EmoEvent/splits/es/test.tsv\""
      ],
      "metadata": {
        "id": "NtM2IOzvnIhI"
      },
      "execution_count": 9,
      "outputs": []
    },
    {
      "cell_type": "code",
      "execution_count": 10,
      "metadata": {
        "id": "PE07lyYch0kQ",
        "colab": {
          "base_uri": "https://localhost:8080/"
        },
        "collapsed": true,
        "outputId": "70cf5067-0a48-401b-b5d2-7882f1c95b15"
      },
      "outputs": [
        {
          "output_type": "stream",
          "name": "stdout",
          "text": [
            "Requirement already satisfied: tensorflow in /usr/local/lib/python3.12/dist-packages (2.19.0)\n",
            "Requirement already satisfied: scikit-learn in /usr/local/lib/python3.12/dist-packages (1.6.1)\n",
            "Requirement already satisfied: imbalanced-learn in /usr/local/lib/python3.12/dist-packages (0.14.0)\n",
            "Requirement already satisfied: emoji in /usr/local/lib/python3.12/dist-packages (2.14.1)\n",
            "Requirement already satisfied: absl-py>=1.0.0 in /usr/local/lib/python3.12/dist-packages (from tensorflow) (1.4.0)\n",
            "Requirement already satisfied: astunparse>=1.6.0 in /usr/local/lib/python3.12/dist-packages (from tensorflow) (1.6.3)\n",
            "Requirement already satisfied: flatbuffers>=24.3.25 in /usr/local/lib/python3.12/dist-packages (from tensorflow) (25.2.10)\n",
            "Requirement already satisfied: gast!=0.5.0,!=0.5.1,!=0.5.2,>=0.2.1 in /usr/local/lib/python3.12/dist-packages (from tensorflow) (0.6.0)\n",
            "Requirement already satisfied: google-pasta>=0.1.1 in /usr/local/lib/python3.12/dist-packages (from tensorflow) (0.2.0)\n",
            "Requirement already satisfied: libclang>=13.0.0 in /usr/local/lib/python3.12/dist-packages (from tensorflow) (18.1.1)\n",
            "Requirement already satisfied: opt-einsum>=2.3.2 in /usr/local/lib/python3.12/dist-packages (from tensorflow) (3.4.0)\n",
            "Requirement already satisfied: packaging in /usr/local/lib/python3.12/dist-packages (from tensorflow) (25.0)\n",
            "Requirement already satisfied: protobuf!=4.21.0,!=4.21.1,!=4.21.2,!=4.21.3,!=4.21.4,!=4.21.5,<6.0.0dev,>=3.20.3 in /usr/local/lib/python3.12/dist-packages (from tensorflow) (5.29.5)\n",
            "Requirement already satisfied: requests<3,>=2.21.0 in /usr/local/lib/python3.12/dist-packages (from tensorflow) (2.32.4)\n",
            "Requirement already satisfied: setuptools in /usr/local/lib/python3.12/dist-packages (from tensorflow) (75.2.0)\n",
            "Requirement already satisfied: six>=1.12.0 in /usr/local/lib/python3.12/dist-packages (from tensorflow) (1.17.0)\n",
            "Requirement already satisfied: termcolor>=1.1.0 in /usr/local/lib/python3.12/dist-packages (from tensorflow) (3.1.0)\n",
            "Requirement already satisfied: typing-extensions>=3.6.6 in /usr/local/lib/python3.12/dist-packages (from tensorflow) (4.14.1)\n",
            "Requirement already satisfied: wrapt>=1.11.0 in /usr/local/lib/python3.12/dist-packages (from tensorflow) (1.17.3)\n",
            "Requirement already satisfied: grpcio<2.0,>=1.24.3 in /usr/local/lib/python3.12/dist-packages (from tensorflow) (1.74.0)\n",
            "Requirement already satisfied: tensorboard~=2.19.0 in /usr/local/lib/python3.12/dist-packages (from tensorflow) (2.19.0)\n",
            "Requirement already satisfied: keras>=3.5.0 in /usr/local/lib/python3.12/dist-packages (from tensorflow) (3.10.0)\n",
            "Requirement already satisfied: numpy<2.2.0,>=1.26.0 in /usr/local/lib/python3.12/dist-packages (from tensorflow) (2.0.2)\n",
            "Requirement already satisfied: h5py>=3.11.0 in /usr/local/lib/python3.12/dist-packages (from tensorflow) (3.14.0)\n",
            "Requirement already satisfied: ml-dtypes<1.0.0,>=0.5.1 in /usr/local/lib/python3.12/dist-packages (from tensorflow) (0.5.3)\n",
            "Requirement already satisfied: scipy>=1.6.0 in /usr/local/lib/python3.12/dist-packages (from scikit-learn) (1.16.1)\n",
            "Requirement already satisfied: joblib>=1.2.0 in /usr/local/lib/python3.12/dist-packages (from scikit-learn) (1.5.1)\n",
            "Requirement already satisfied: threadpoolctl>=3.1.0 in /usr/local/lib/python3.12/dist-packages (from scikit-learn) (3.6.0)\n",
            "Requirement already satisfied: wheel<1.0,>=0.23.0 in /usr/local/lib/python3.12/dist-packages (from astunparse>=1.6.0->tensorflow) (0.45.1)\n",
            "Requirement already satisfied: rich in /usr/local/lib/python3.12/dist-packages (from keras>=3.5.0->tensorflow) (13.9.4)\n",
            "Requirement already satisfied: namex in /usr/local/lib/python3.12/dist-packages (from keras>=3.5.0->tensorflow) (0.1.0)\n",
            "Requirement already satisfied: optree in /usr/local/lib/python3.12/dist-packages (from keras>=3.5.0->tensorflow) (0.17.0)\n",
            "Requirement already satisfied: charset_normalizer<4,>=2 in /usr/local/lib/python3.12/dist-packages (from requests<3,>=2.21.0->tensorflow) (3.4.3)\n",
            "Requirement already satisfied: idna<4,>=2.5 in /usr/local/lib/python3.12/dist-packages (from requests<3,>=2.21.0->tensorflow) (3.10)\n",
            "Requirement already satisfied: urllib3<3,>=1.21.1 in /usr/local/lib/python3.12/dist-packages (from requests<3,>=2.21.0->tensorflow) (2.5.0)\n",
            "Requirement already satisfied: certifi>=2017.4.17 in /usr/local/lib/python3.12/dist-packages (from requests<3,>=2.21.0->tensorflow) (2025.8.3)\n",
            "Requirement already satisfied: markdown>=2.6.8 in /usr/local/lib/python3.12/dist-packages (from tensorboard~=2.19.0->tensorflow) (3.8.2)\n",
            "Requirement already satisfied: tensorboard-data-server<0.8.0,>=0.7.0 in /usr/local/lib/python3.12/dist-packages (from tensorboard~=2.19.0->tensorflow) (0.7.2)\n",
            "Requirement already satisfied: werkzeug>=1.0.1 in /usr/local/lib/python3.12/dist-packages (from tensorboard~=2.19.0->tensorflow) (3.1.3)\n",
            "Requirement already satisfied: MarkupSafe>=2.1.1 in /usr/local/lib/python3.12/dist-packages (from werkzeug>=1.0.1->tensorboard~=2.19.0->tensorflow) (3.0.2)\n",
            "Requirement already satisfied: markdown-it-py>=2.2.0 in /usr/local/lib/python3.12/dist-packages (from rich->keras>=3.5.0->tensorflow) (4.0.0)\n",
            "Requirement already satisfied: pygments<3.0.0,>=2.13.0 in /usr/local/lib/python3.12/dist-packages (from rich->keras>=3.5.0->tensorflow) (2.19.2)\n",
            "Requirement already satisfied: mdurl~=0.1 in /usr/local/lib/python3.12/dist-packages (from markdown-it-py>=2.2.0->rich->keras>=3.5.0->tensorflow) (0.1.2)\n"
          ]
        }
      ],
      "source": [
        "# ============================================\n",
        "# @title Instalar dependencias\n",
        "# ============================================\n",
        "!pip install tensorflow scikit-learn imbalanced-learn emoji"
      ]
    },
    {
      "cell_type": "code",
      "source": [
        "# ============================================\n",
        "# @title Cargar y explorar los datos\n",
        "# ============================================\n",
        "from collections import Counter\n",
        "\n",
        "train_df = pd.read_csv(train_path, sep=\"\\t\")\n",
        "dev_df   = pd.read_csv(dev_path, sep=\"\\t\")\n",
        "test_df  = pd.read_csv(test_path, sep=\"\\t\")\n",
        "\n",
        "print(\"Ejemplo de train:\")\n",
        "display(train_df.head())\n",
        "\n",
        "print(\"\\nTamaños:\")\n",
        "print(\"Train:\", train_df.shape)\n",
        "print(\"Dev  :\", dev_df.shape)\n",
        "print(\"Test :\", test_df.shape)\n",
        "\n",
        "print(\"\\nDistribución Train:\", Counter(train_df[\"emotion\"]))"
      ],
      "metadata": {
        "colab": {
          "base_uri": "https://localhost:8080/",
          "height": 351
        },
        "id": "-ddHUhSIndlm",
        "outputId": "19af7d8c-7269-41f0-d1cb-4b2c7d69188e"
      },
      "execution_count": 11,
      "outputs": [
        {
          "output_type": "stream",
          "name": "stdout",
          "text": [
            "Ejemplo de train:\n"
          ]
        },
        {
          "output_type": "display_data",
          "data": {
            "text/plain": [
              "                                     id          event  \\\n",
              "0  a0c1a858-a9b8-4cb1-8a81-1602736ff5b8  GameOfThrones   \n",
              "1  9b272817-a231-4f68-bdf4-3350d4919330      Venezuela   \n",
              "2  4bd5b1e5-4b74-440a-82f4-c2567a241011      NotreDame   \n",
              "3  0bb9d7c9-d781-4684-890e-a94bfb50acc0      NotreDame   \n",
              "4  88749098-d539-4500-9209-0bbfae2b109c  GameOfThrones   \n",
              "\n",
              "                                               tweet offensive  emotion  \n",
              "0  La Gran Guerra de #JuegoDeTronos nos ha dejado...        NO   others  \n",
              "1  El golpe de Estado en #Venezuela está más lejo...        NO   others  \n",
              "2  No tengo una foto en la catedral de #NotreDame...        NO  sadness  \n",
              "3  #NotreDame nunca llegue a visitar tan grandios...        NO  sadness  \n",
              "4      A tomar por culo mi crush 😭😭😭😭😭#JuegoDeTronos       OFF  sadness  "
            ],
            "text/html": [
              "\n",
              "  <div id=\"df-30bcdf6f-1543-4982-a049-a82615c82939\" class=\"colab-df-container\">\n",
              "    <div>\n",
              "<style scoped>\n",
              "    .dataframe tbody tr th:only-of-type {\n",
              "        vertical-align: middle;\n",
              "    }\n",
              "\n",
              "    .dataframe tbody tr th {\n",
              "        vertical-align: top;\n",
              "    }\n",
              "\n",
              "    .dataframe thead th {\n",
              "        text-align: right;\n",
              "    }\n",
              "</style>\n",
              "<table border=\"1\" class=\"dataframe\">\n",
              "  <thead>\n",
              "    <tr style=\"text-align: right;\">\n",
              "      <th></th>\n",
              "      <th>id</th>\n",
              "      <th>event</th>\n",
              "      <th>tweet</th>\n",
              "      <th>offensive</th>\n",
              "      <th>emotion</th>\n",
              "    </tr>\n",
              "  </thead>\n",
              "  <tbody>\n",
              "    <tr>\n",
              "      <th>0</th>\n",
              "      <td>a0c1a858-a9b8-4cb1-8a81-1602736ff5b8</td>\n",
              "      <td>GameOfThrones</td>\n",
              "      <td>La Gran Guerra de #JuegoDeTronos nos ha dejado...</td>\n",
              "      <td>NO</td>\n",
              "      <td>others</td>\n",
              "    </tr>\n",
              "    <tr>\n",
              "      <th>1</th>\n",
              "      <td>9b272817-a231-4f68-bdf4-3350d4919330</td>\n",
              "      <td>Venezuela</td>\n",
              "      <td>El golpe de Estado en #Venezuela está más lejo...</td>\n",
              "      <td>NO</td>\n",
              "      <td>others</td>\n",
              "    </tr>\n",
              "    <tr>\n",
              "      <th>2</th>\n",
              "      <td>4bd5b1e5-4b74-440a-82f4-c2567a241011</td>\n",
              "      <td>NotreDame</td>\n",
              "      <td>No tengo una foto en la catedral de #NotreDame...</td>\n",
              "      <td>NO</td>\n",
              "      <td>sadness</td>\n",
              "    </tr>\n",
              "    <tr>\n",
              "      <th>3</th>\n",
              "      <td>0bb9d7c9-d781-4684-890e-a94bfb50acc0</td>\n",
              "      <td>NotreDame</td>\n",
              "      <td>#NotreDame nunca llegue a visitar tan grandios...</td>\n",
              "      <td>NO</td>\n",
              "      <td>sadness</td>\n",
              "    </tr>\n",
              "    <tr>\n",
              "      <th>4</th>\n",
              "      <td>88749098-d539-4500-9209-0bbfae2b109c</td>\n",
              "      <td>GameOfThrones</td>\n",
              "      <td>A tomar por culo mi crush 😭😭😭😭😭#JuegoDeTronos</td>\n",
              "      <td>OFF</td>\n",
              "      <td>sadness</td>\n",
              "    </tr>\n",
              "  </tbody>\n",
              "</table>\n",
              "</div>\n",
              "    <div class=\"colab-df-buttons\">\n",
              "\n",
              "  <div class=\"colab-df-container\">\n",
              "    <button class=\"colab-df-convert\" onclick=\"convertToInteractive('df-30bcdf6f-1543-4982-a049-a82615c82939')\"\n",
              "            title=\"Convert this dataframe to an interactive table.\"\n",
              "            style=\"display:none;\">\n",
              "\n",
              "  <svg xmlns=\"http://www.w3.org/2000/svg\" height=\"24px\" viewBox=\"0 -960 960 960\">\n",
              "    <path d=\"M120-120v-720h720v720H120Zm60-500h600v-160H180v160Zm220 220h160v-160H400v160Zm0 220h160v-160H400v160ZM180-400h160v-160H180v160Zm440 0h160v-160H620v160ZM180-180h160v-160H180v160Zm440 0h160v-160H620v160Z\"/>\n",
              "  </svg>\n",
              "    </button>\n",
              "\n",
              "  <style>\n",
              "    .colab-df-container {\n",
              "      display:flex;\n",
              "      gap: 12px;\n",
              "    }\n",
              "\n",
              "    .colab-df-convert {\n",
              "      background-color: #E8F0FE;\n",
              "      border: none;\n",
              "      border-radius: 50%;\n",
              "      cursor: pointer;\n",
              "      display: none;\n",
              "      fill: #1967D2;\n",
              "      height: 32px;\n",
              "      padding: 0 0 0 0;\n",
              "      width: 32px;\n",
              "    }\n",
              "\n",
              "    .colab-df-convert:hover {\n",
              "      background-color: #E2EBFA;\n",
              "      box-shadow: 0px 1px 2px rgba(60, 64, 67, 0.3), 0px 1px 3px 1px rgba(60, 64, 67, 0.15);\n",
              "      fill: #174EA6;\n",
              "    }\n",
              "\n",
              "    .colab-df-buttons div {\n",
              "      margin-bottom: 4px;\n",
              "    }\n",
              "\n",
              "    [theme=dark] .colab-df-convert {\n",
              "      background-color: #3B4455;\n",
              "      fill: #D2E3FC;\n",
              "    }\n",
              "\n",
              "    [theme=dark] .colab-df-convert:hover {\n",
              "      background-color: #434B5C;\n",
              "      box-shadow: 0px 1px 3px 1px rgba(0, 0, 0, 0.15);\n",
              "      filter: drop-shadow(0px 1px 2px rgba(0, 0, 0, 0.3));\n",
              "      fill: #FFFFFF;\n",
              "    }\n",
              "  </style>\n",
              "\n",
              "    <script>\n",
              "      const buttonEl =\n",
              "        document.querySelector('#df-30bcdf6f-1543-4982-a049-a82615c82939 button.colab-df-convert');\n",
              "      buttonEl.style.display =\n",
              "        google.colab.kernel.accessAllowed ? 'block' : 'none';\n",
              "\n",
              "      async function convertToInteractive(key) {\n",
              "        const element = document.querySelector('#df-30bcdf6f-1543-4982-a049-a82615c82939');\n",
              "        const dataTable =\n",
              "          await google.colab.kernel.invokeFunction('convertToInteractive',\n",
              "                                                    [key], {});\n",
              "        if (!dataTable) return;\n",
              "\n",
              "        const docLinkHtml = 'Like what you see? Visit the ' +\n",
              "          '<a target=\"_blank\" href=https://colab.research.google.com/notebooks/data_table.ipynb>data table notebook</a>'\n",
              "          + ' to learn more about interactive tables.';\n",
              "        element.innerHTML = '';\n",
              "        dataTable['output_type'] = 'display_data';\n",
              "        await google.colab.output.renderOutput(dataTable, element);\n",
              "        const docLink = document.createElement('div');\n",
              "        docLink.innerHTML = docLinkHtml;\n",
              "        element.appendChild(docLink);\n",
              "      }\n",
              "    </script>\n",
              "  </div>\n",
              "\n",
              "\n",
              "    <div id=\"df-195246a9-cdae-4651-952d-d8b45ec37d31\">\n",
              "      <button class=\"colab-df-quickchart\" onclick=\"quickchart('df-195246a9-cdae-4651-952d-d8b45ec37d31')\"\n",
              "                title=\"Suggest charts\"\n",
              "                style=\"display:none;\">\n",
              "\n",
              "<svg xmlns=\"http://www.w3.org/2000/svg\" height=\"24px\"viewBox=\"0 0 24 24\"\n",
              "     width=\"24px\">\n",
              "    <g>\n",
              "        <path d=\"M19 3H5c-1.1 0-2 .9-2 2v14c0 1.1.9 2 2 2h14c1.1 0 2-.9 2-2V5c0-1.1-.9-2-2-2zM9 17H7v-7h2v7zm4 0h-2V7h2v10zm4 0h-2v-4h2v4z\"/>\n",
              "    </g>\n",
              "</svg>\n",
              "      </button>\n",
              "\n",
              "<style>\n",
              "  .colab-df-quickchart {\n",
              "      --bg-color: #E8F0FE;\n",
              "      --fill-color: #1967D2;\n",
              "      --hover-bg-color: #E2EBFA;\n",
              "      --hover-fill-color: #174EA6;\n",
              "      --disabled-fill-color: #AAA;\n",
              "      --disabled-bg-color: #DDD;\n",
              "  }\n",
              "\n",
              "  [theme=dark] .colab-df-quickchart {\n",
              "      --bg-color: #3B4455;\n",
              "      --fill-color: #D2E3FC;\n",
              "      --hover-bg-color: #434B5C;\n",
              "      --hover-fill-color: #FFFFFF;\n",
              "      --disabled-bg-color: #3B4455;\n",
              "      --disabled-fill-color: #666;\n",
              "  }\n",
              "\n",
              "  .colab-df-quickchart {\n",
              "    background-color: var(--bg-color);\n",
              "    border: none;\n",
              "    border-radius: 50%;\n",
              "    cursor: pointer;\n",
              "    display: none;\n",
              "    fill: var(--fill-color);\n",
              "    height: 32px;\n",
              "    padding: 0;\n",
              "    width: 32px;\n",
              "  }\n",
              "\n",
              "  .colab-df-quickchart:hover {\n",
              "    background-color: var(--hover-bg-color);\n",
              "    box-shadow: 0 1px 2px rgba(60, 64, 67, 0.3), 0 1px 3px 1px rgba(60, 64, 67, 0.15);\n",
              "    fill: var(--button-hover-fill-color);\n",
              "  }\n",
              "\n",
              "  .colab-df-quickchart-complete:disabled,\n",
              "  .colab-df-quickchart-complete:disabled:hover {\n",
              "    background-color: var(--disabled-bg-color);\n",
              "    fill: var(--disabled-fill-color);\n",
              "    box-shadow: none;\n",
              "  }\n",
              "\n",
              "  .colab-df-spinner {\n",
              "    border: 2px solid var(--fill-color);\n",
              "    border-color: transparent;\n",
              "    border-bottom-color: var(--fill-color);\n",
              "    animation:\n",
              "      spin 1s steps(1) infinite;\n",
              "  }\n",
              "\n",
              "  @keyframes spin {\n",
              "    0% {\n",
              "      border-color: transparent;\n",
              "      border-bottom-color: var(--fill-color);\n",
              "      border-left-color: var(--fill-color);\n",
              "    }\n",
              "    20% {\n",
              "      border-color: transparent;\n",
              "      border-left-color: var(--fill-color);\n",
              "      border-top-color: var(--fill-color);\n",
              "    }\n",
              "    30% {\n",
              "      border-color: transparent;\n",
              "      border-left-color: var(--fill-color);\n",
              "      border-top-color: var(--fill-color);\n",
              "      border-right-color: var(--fill-color);\n",
              "    }\n",
              "    40% {\n",
              "      border-color: transparent;\n",
              "      border-right-color: var(--fill-color);\n",
              "      border-top-color: var(--fill-color);\n",
              "    }\n",
              "    60% {\n",
              "      border-color: transparent;\n",
              "      border-right-color: var(--fill-color);\n",
              "    }\n",
              "    80% {\n",
              "      border-color: transparent;\n",
              "      border-right-color: var(--fill-color);\n",
              "      border-bottom-color: var(--fill-color);\n",
              "    }\n",
              "    90% {\n",
              "      border-color: transparent;\n",
              "      border-bottom-color: var(--fill-color);\n",
              "    }\n",
              "  }\n",
              "</style>\n",
              "\n",
              "      <script>\n",
              "        async function quickchart(key) {\n",
              "          const quickchartButtonEl =\n",
              "            document.querySelector('#' + key + ' button');\n",
              "          quickchartButtonEl.disabled = true;  // To prevent multiple clicks.\n",
              "          quickchartButtonEl.classList.add('colab-df-spinner');\n",
              "          try {\n",
              "            const charts = await google.colab.kernel.invokeFunction(\n",
              "                'suggestCharts', [key], {});\n",
              "          } catch (error) {\n",
              "            console.error('Error during call to suggestCharts:', error);\n",
              "          }\n",
              "          quickchartButtonEl.classList.remove('colab-df-spinner');\n",
              "          quickchartButtonEl.classList.add('colab-df-quickchart-complete');\n",
              "        }\n",
              "        (() => {\n",
              "          let quickchartButtonEl =\n",
              "            document.querySelector('#df-195246a9-cdae-4651-952d-d8b45ec37d31 button');\n",
              "          quickchartButtonEl.style.display =\n",
              "            google.colab.kernel.accessAllowed ? 'block' : 'none';\n",
              "        })();\n",
              "      </script>\n",
              "    </div>\n",
              "\n",
              "    </div>\n",
              "  </div>\n"
            ],
            "application/vnd.google.colaboratory.intrinsic+json": {
              "type": "dataframe",
              "summary": "{\n  \"name\": \"print(\\\"\\\\nDistribuci\\u00f3n Train:\\\", Counter(train_df[\\\"emotion\\\"]))\",\n  \"rows\": 5,\n  \"fields\": [\n    {\n      \"column\": \"id\",\n      \"properties\": {\n        \"dtype\": \"string\",\n        \"num_unique_values\": 5,\n        \"samples\": [\n          \"9b272817-a231-4f68-bdf4-3350d4919330\",\n          \"88749098-d539-4500-9209-0bbfae2b109c\",\n          \"4bd5b1e5-4b74-440a-82f4-c2567a241011\"\n        ],\n        \"semantic_type\": \"\",\n        \"description\": \"\"\n      }\n    },\n    {\n      \"column\": \"event\",\n      \"properties\": {\n        \"dtype\": \"string\",\n        \"num_unique_values\": 3,\n        \"samples\": [\n          \"GameOfThrones\",\n          \"Venezuela\",\n          \"NotreDame\"\n        ],\n        \"semantic_type\": \"\",\n        \"description\": \"\"\n      }\n    },\n    {\n      \"column\": \"tweet\",\n      \"properties\": {\n        \"dtype\": \"string\",\n        \"num_unique_values\": 5,\n        \"samples\": [\n          \"El golpe de Estado en #Venezuela est\\u00e1 m\\u00e1s lejos que el final de Elif. #VenezuelaEnBatallaYVictoria #VenezuelaNoSeRinde #VenezuelaHoy\",\n          \"A tomar por culo mi crush \\ud83d\\ude2d\\ud83d\\ude2d\\ud83d\\ude2d\\ud83d\\ude2d\\ud83d\\ude2d#JuegoDeTronos\",\n          \"No tengo una foto en la catedral de #NotreDame pero tengo esta secuencia hermosa... https://t.co/cwcdHASGIu\"\n        ],\n        \"semantic_type\": \"\",\n        \"description\": \"\"\n      }\n    },\n    {\n      \"column\": \"offensive\",\n      \"properties\": {\n        \"dtype\": \"category\",\n        \"num_unique_values\": 2,\n        \"samples\": [\n          \"OFF\",\n          \"NO\"\n        ],\n        \"semantic_type\": \"\",\n        \"description\": \"\"\n      }\n    },\n    {\n      \"column\": \"emotion\",\n      \"properties\": {\n        \"dtype\": \"category\",\n        \"num_unique_values\": 2,\n        \"samples\": [\n          \"sadness\",\n          \"others\"\n        ],\n        \"semantic_type\": \"\",\n        \"description\": \"\"\n      }\n    }\n  ]\n}"
            }
          },
          "metadata": {}
        },
        {
          "output_type": "stream",
          "name": "stdout",
          "text": [
            "\n",
            "Tamaños:\n",
            "Train: (5723, 5)\n",
            "Dev  : (844, 5)\n",
            "Test : (1656, 5)\n",
            "\n",
            "Distribución Train: Counter({'others': 2800, 'joy': 1227, 'sadness': 693, 'anger': 589, 'surprise': 238, 'disgust': 111, 'fear': 65})\n"
          ]
        }
      ]
    },
    {
      "cell_type": "code",
      "source": [
        "# ============================================\n",
        "# @title Preprocesamiento avanzado de tweets\n",
        "# ============================================\n",
        "import re\n",
        "import emoji\n",
        "\n",
        "def advanced_clean(text):\n",
        "    # Ensure the input is a string\n",
        "    text = str(text)\n",
        "    text = emoji.demojize(text)                       # Emojis → texto (demojize)\n",
        "    text = re.sub(r\"http\\S+|www\\S+\", \"<url>\", text)   # URLs → <url>\n",
        "    text = re.sub(r\"@\\w+\", \"<user>\", text)            # menciones → <user>\n",
        "\n",
        "    # Hashtags → separar palabras (captura mayúsculas, minúsculas y números)\n",
        "    hashtags = re.findall(r\"#\\w+\", text)\n",
        "    for tag in hashtags:\n",
        "        # separar por mayúsculas, minúsculas y números\n",
        "        split_tag = ' '.join(re.findall(r'[A-Z]?[a-z]+|\\d+', tag[1:]))\n",
        "        text = text.replace(tag, split_tag)\n",
        "\n",
        "    # Mantener letras, números, espacios, emojis y signos de énfasis\n",
        "    # Incluye: ! ? . , : ; - _ < > y los tags <url> y <user>\n",
        "    text = re.sub(r\"[^a-zA-Z0-9\\s!?\\.,:;_\\-<>]\", \"\", text)\n",
        "\n",
        "    # Normalizar espacios múltiples\n",
        "    text = re.sub(r'\\s+', ' ', text)\n",
        "\n",
        "    return text.lower().strip()\n",
        "\n",
        "# Aplicar preprocesamiento\n",
        "train_df['tweet'] = train_df['tweet'].apply(advanced_clean)\n",
        "dev_df['tweet']   = dev_df['tweet'].apply(advanced_clean)\n",
        "test_df['tweet']  = test_df['tweet'].apply(advanced_clean)"
      ],
      "metadata": {
        "id": "U0YFcXNrCP6p"
      },
      "execution_count": 55,
      "outputs": []
    },
    {
      "cell_type": "markdown",
      "source": [
        "### 1️⃣ **Emojis**\n",
        "Los emojis son muy informativos en tweets porque comunican emociones de manera directa.\n",
        "\n",
        "Ejemplo:\n",
        "\n",
        ">😨 → miedo,\n",
        ">😂 → alegría,\n",
        ">😡 → ira\n",
        "\n",
        "*Eliminar emojis como en el preprocesamiento anterior puede hacer perder contexto emocional.*\n",
        "\n",
        "> **Propuesta:**\n",
        "Convertir emojis en tokens de texto usando librerías como emoji o demojize.\n",
        "\n",
        "### 2️⃣ Hashtags\n",
        "* Los hashtags (#GameOfThrones) aportan información temática, no solo emocional.\n",
        "* Algunos hashtags contienen palabras relevantes (#Tristeza, #Feliz) que directamente apuntan a la emoción.\n",
        "\n",
        "> **Propuesta:**\n",
        "Mantener hashtags, pero separar palabras compuestas si es posible.\n",
        "\n",
        "\n",
        "### 3️⃣ Menciones (@user)\n",
        "* Menos importantes para emoción; generalmente ruido.\n",
        "* Mantenerlas rara vez aporta valor.\n",
        "> **Propuesta:**\n",
        "Eliminarlas o reemplazarlas por un token <\\user>.\n",
        "\n",
        "### 4️⃣ URLs\n",
        "Generalmente no aportan información emocional directa.\n",
        "> **Propuesta:** reemplazarlas por <url> o eliminarlas.\n",
        "\n",
        "### 5️⃣ Signos de puntuación\n",
        "\n",
        "Algunos signos pueden intensificar emoción, p. ej. !!! o ?.\n",
        "\n",
        "> **Propuesta:**\n",
        "* Mantener signos de exclamación y pregunta como tokens separados.\n",
        "* Eliminar otros símbolos que no aporten valor.\n",
        "\n",
        "## **Conclusiones**\n",
        "> Emojis y hashtags son señales emocionales fuertes y conviene preservarlas como tokens, no eliminarlas.\n",
        ">Menciones y URLs pueden generalizarse con tokens especiales.\n",
        ">Mantener signos de énfasis (!, ?) ayuda a captar intensidad.\n",
        "\n",
        "Con este preprocesamiento, el modelo aprenderá mejor la relación entre contenido textual, emoción y contexto."
      ],
      "metadata": {
        "id": "yT84X4rSBCW5"
      }
    },
    {
      "cell_type": "code",
      "source": [
        "# ============================================\n",
        "#  @title Tokenización y secuencias\n",
        "# ============================================\n",
        "import tensorflow as tf\n",
        "from tensorflow.keras.preprocessing.text import Tokenizer\n",
        "from tensorflow.keras.preprocessing.sequence import pad_sequences\n",
        "\n",
        "MAX_LEN = 50\n",
        "tokenizer = Tokenizer()\n",
        "tokenizer.fit_on_texts(train_df['tweet'])\n",
        "\n",
        "X_train = tokenizer.texts_to_sequences(train_df['tweet'])\n",
        "X_dev   = tokenizer.texts_to_sequences(dev_df['tweet'])\n",
        "X_test  = tokenizer.texts_to_sequences(test_df['tweet'])\n",
        "\n",
        "X_train = pad_sequences(X_train, maxlen=MAX_LEN, padding='post')\n",
        "X_dev   = pad_sequences(X_dev, maxlen=MAX_LEN, padding='post')\n",
        "X_test  = pad_sequences(X_test, maxlen=MAX_LEN, padding='post')"
      ],
      "metadata": {
        "id": "qDoxwIvTBjiZ"
      },
      "execution_count": 56,
      "outputs": []
    },
    {
      "cell_type": "markdown",
      "source": [
        "___________________"
      ],
      "metadata": {
        "id": "pdEqDSk0kzUa"
      }
    },
    {
      "cell_type": "markdown",
      "source": [
        "## **Análisis de técnicas según este caso**\n",
        "\n",
        "1. **Undersampling de clases mayoritarias**\n",
        "    * Reducir others y joy para igualarlas a la clase minoritaria.\n",
        "    * Contras: perderías demasiados datos valiosos (por ejemplo, de others pasarías de 2800 a 65).\n",
        "    * Conclusión: no recomendable, datos perdidos son demasiado importantes para NLP.\n",
        "\n",
        "2. **Oversampling de clases minoritarias**\n",
        "    *  Duplicar ejemplos de fear, disgust y surprise.\n",
        "    * Riesgo: overfitting si duplicas demasiado, porque el modelo verá repetidamente los mismos tweets.\n",
        "    * Conclusión: útil si se combina con class weighting y no se exagera.\n",
        "\n",
        "3. **SMOTE o técnicas sintéticas sobre embeddings**\n",
        "    * Generar vectores de tweets minoritarios (usando Word2Vec o BERT) y luego entrenar.\n",
        "    * Pros: evita repetir exactamente el mismo texto.\n",
        "    * Contras: requiere pipeline de embeddings; si se hace directamente sobre texto, no es factible.\n",
        "    * Conclusión: buena opción avanzada si quieres balancear fuerte, especialmente para fear y disgust.\n",
        "\n",
        "4. **Class weighting (ponderar la pérdida por clase)**\n",
        "    *  Ajusta la función de pérdida para que errores en clases minoritarias tengan más peso.\n",
        "    * Pros: no se altera el dataset; evita inventar datos; fácil de implementar en LSTM o Transformer.\n",
        "    * Contras: no aumenta la cantidad de ejemplos, pero ayuda al modelo a prestar atención a las minoritarias.\n",
        "    * Conclusión: muy recomendable, especialmente con clases tan desbalanceadas.\n",
        "\n",
        "\n",
        "### **PROPUESTA A IMPLEMENTAR**\n",
        "> Class weighting → obligatorio para que el modelo preste atención a clases como fear y disgust.\n",
        "\n",
        "> Oversampling ligero de clases minoritarias (fear, disgust, surprise) → solo para dar un poco más de ejemplos al modelo, evitando duplicar demasiado.\n",
        "\n",
        "> Evitar undersampling de las clases mayoritarias.\n",
        "\n",
        "Este enfoque mantiene la mayoría de los datos originales, evita inventar texto y permite que las clases minoritarias sean reconocidas por el modelo."
      ],
      "metadata": {
        "id": "6QvuSo2x-wjL"
      }
    },
    {
      "cell_type": "code",
      "source": [
        "from imblearn.over_sampling import SMOTE\n",
        "\n",
        "smote = SMOTE(random_state=42)\n",
        "X_res, y_res = smote.fit_resample(X_train, y_train)"
      ],
      "metadata": {
        "id": "xQ7REWnTOiKq"
      },
      "execution_count": 57,
      "outputs": []
    },
    {
      "cell_type": "code",
      "source": [
        "# ============================================\n",
        "#  @title Etiquetas y class weighting\n",
        "# ============================================\n",
        "from sklearn.preprocessing import LabelEncoder\n",
        "from sklearn.utils.class_weight import compute_class_weight\n",
        "import numpy as np\n",
        "\n",
        "le = LabelEncoder()\n",
        "y_train = le.fit_transform(train_df['emotion'])\n",
        "y_dev   = le.transform(dev_df['emotion'])\n",
        "y_test  = le.transform(test_df['emotion'])\n",
        "\n",
        "# One-hot\n",
        "y_train_oh = tf.keras.utils.to_categorical(y_train)\n",
        "y_dev_oh   = tf.keras.utils.to_categorical(y_dev)\n",
        "y_test_oh  = tf.keras.utils.to_categorical(y_test)\n",
        "\n",
        "# Class weighting\n",
        "classes = np.unique(y_train)\n",
        "class_weights = compute_class_weight(class_weight='balanced', classes=classes, y=y_train)\n",
        "weight_dict = dict(zip(classes, class_weights))\n",
        "print(\"Class weights:\", weight_dict)\n"
      ],
      "metadata": {
        "colab": {
          "base_uri": "https://localhost:8080/"
        },
        "id": "2Z_AvnDRBBti",
        "outputId": "0c59fd96-c4bd-48a5-c4ea-7fc2b195e348"
      },
      "execution_count": 58,
      "outputs": [
        {
          "output_type": "stream",
          "name": "stdout",
          "text": [
            "Class weights: {np.int64(0): np.float64(1.388066941547417), np.int64(1): np.float64(7.365508365508365), np.int64(2): np.float64(12.578021978021978), np.int64(3): np.float64(0.6663173826988008), np.int64(4): np.float64(0.2919897959183673), np.int64(5): np.float64(1.1797567511853226), np.int64(6): np.float64(3.435174069627851)}\n"
          ]
        }
      ]
    },
    {
      "cell_type": "markdown",
      "source": [
        "Análisis de los Class Weights\n",
        "\n",
        "Durante el preprocesamiento del dataset y la preparación del entrenamiento, se calcularon los pesos de clase (class_weight) para corregir el fuerte desbalance presente en las emociones de los tweets. Los valores obtenidos son los siguientes:\n",
        "\n",
        "Clase (LabelEncoder)\tPeso\n",
        "0\t1.39\n",
        "1\t7.37\n",
        "2\t12.58\n",
        "3\t0.67\n",
        "4\t0.29\n",
        "5\t1.18\n",
        "6\t3.44\n",
        "\n",
        "Interpretación y relevancia:\n",
        "\n",
        "1. Clases minoritarias reciben mayor peso\n",
        ">- Clases con pocas muestras, como la clase 2 (12.58) y clase 1 (7.37), tienen pesos altos.\n",
        ">- Esto significa que durante el entrenamiento, los errores en estas clases minoritarias serán penalizados más fuertemente, obligando al modelo a prestarles atención.\n",
        ">-  Evita que el modelo prediga siempre las clases mayoritarias por conveniencia estadística.\n",
        "\n",
        "2. Clases mayoritarias reciben menor peso\n",
        ">- Clases con muchas muestras, como la clase 4 (0.29) y clase 3 (0.67), tienen pesos bajos.\n",
        ">- Esto previene que el modelo se sesgue hacia las clases dominantes (others y joy) y promueve un aprendizaje más equilibrado.\n",
        "\n",
        "3. Proporcionalidad de los pesos\n",
        ">- Los pesos están calculados de forma inversa a la frecuencia de cada clase (balanced), lo que refleja la relación de desbalance real del dataset.\n",
        ">- Este enfoque es adecuado para datasets de NLP desbalanceados, ya que no altera los datos originales pero ajusta la función de pérdida para priorizar correctamente todas las clases.\n",
        "\n",
        "4. Consideraciones prácticas\n",
        "\n",
        "Pesos demasiado altos pueden generar overfitting en clases minoritarias; por ello, en nuestro pipeline se combina este ajuste con oversampling ligero, asegurando estabilidad en el entrenamiento y mejora en métricas macro como F1-score.\n",
        "\n",
        "Conclusión:\n",
        "El uso de estos pesos permite que el modelo LSTM aprenda patrones relevantes de todas las clases de emoción, equilibrando el impacto de clases muy desbalanceadas sin perder información de las mayoritarias, lo que es crucial para tareas de clasificación emocional en tweets."
      ],
      "metadata": {
        "id": "UT9ICvZkEQ-R"
      }
    },
    {
      "cell_type": "code",
      "source": [
        "from collections import Counter\n",
        "\n",
        "# Muestra el mapeo de LabelEncoder\n",
        "for i, c in enumerate(le.classes_):\n",
        "    print(f\"{i}: {c}\")\n",
        "\n",
        "# Revisa la distribución de clases\n",
        "print(Counter(y_train))\n"
      ],
      "metadata": {
        "colab": {
          "base_uri": "https://localhost:8080/"
        },
        "id": "FE5CioCnIHDC",
        "outputId": "4af1fee9-d454-4414-8d8f-ecf9a7e675ad"
      },
      "execution_count": 59,
      "outputs": [
        {
          "output_type": "stream",
          "name": "stdout",
          "text": [
            "0: anger\n",
            "1: disgust\n",
            "2: fear\n",
            "3: joy\n",
            "4: others\n",
            "5: sadness\n",
            "6: surprise\n",
            "Counter({np.int64(4): 2800, np.int64(3): 1227, np.int64(5): 693, np.int64(0): 589, np.int64(6): 238, np.int64(1): 111, np.int64(2): 65})\n"
          ]
        }
      ]
    },
    {
      "cell_type": "code",
      "source": [
        "# ========================================================\n",
        "#  @title Oversampling ligero de clases minoritarias\n",
        "# ========================================================\n",
        "from imblearn.over_sampling import RandomOverSampler\n",
        "from collections import Counter\n",
        "\n",
        "# Ajusta los números según cuántos ejemplos quieras para cada clase minoritaria\n",
        "ros = RandomOverSampler(sampling_strategy={\n",
        "    0: 800,   # anger, antes 589\n",
        "    1: 200,   # disgust, antes 111\n",
        "    2: 150,   # fear, antes 65\n",
        "    5: 800,   # sadness, antes 693\n",
        "    6: 500    # surprise, antes 238\n",
        "}, random_state=42)\n",
        "\n",
        "X_res, y_res = ros.fit_resample(X_train, y_train)\n",
        "y_res_oh = tf.keras.utils.to_categorical(y_res)\n",
        "print(\"Distribución tras oversampling:\", Counter(y_res))"
      ],
      "metadata": {
        "colab": {
          "base_uri": "https://localhost:8080/"
        },
        "id": "aBt7sNS5DPLR",
        "outputId": "9f13afd8-2246-4467-9acb-218b7c4066e0"
      },
      "execution_count": 60,
      "outputs": [
        {
          "output_type": "stream",
          "name": "stdout",
          "text": [
            "Distribución tras oversampling: Counter({np.int64(4): 2800, np.int64(3): 1227, np.int64(5): 800, np.int64(0): 800, np.int64(6): 500, np.int64(1): 200, np.int64(2): 150})\n"
          ]
        }
      ]
    },
    {
      "cell_type": "markdown",
      "source": [
        "Esto es oversampling ligero, suficiente para que el modelo aprenda mejor sin generar overfitting excesivo.\n",
        "> *Nota: no bajar la cantidad de clases mayoritarias, solo aumentar las minoritarias ligeramente para acercarlas a un nivel más balanceado.*\n",
        "\n",
        "* No incluí la clase others ni la clase joy si son mayoritarias.\n",
        "* Las clases mayoritarias deben quedarse como están.\n",
        "* Solo aumentamos ligeramente las minoritarias para que el modelo no las ignore."
      ],
      "metadata": {
        "id": "EMKfKCgCFLfR"
      }
    },
    {
      "cell_type": "code",
      "source": [
        "# ============================================\n",
        "#  @title Modelo LSTM\n",
        "# ============================================\n",
        "from tensorflow.keras import layers, models\n",
        "\n",
        "# --------------------------------------------\n",
        "# 1️⃣ Parámetros\n",
        "# --------------------------------------------\n",
        "VOCAB_SIZE = len(tokenizer.word_index) + 1\n",
        "EMB_DIM = 128\n",
        "MAX_LEN = X_res.shape[1]  # largo de las secuencias\n",
        "classes = [0,1,2,3,4,5,6]"
      ],
      "metadata": {
        "id": "ZhhZTfwEDPIm"
      },
      "execution_count": 61,
      "outputs": []
    },
    {
      "cell_type": "markdown",
      "source": [
        "## **Tuning de hiperparámetros (modesto)**\n",
        "\n",
        "Embedding size: 128 → 256 si GPU lo permite.\n",
        "\n",
        "LSTM units: 64 → 128 para capturar más contexto.\n",
        "\n",
        "Batch size: 64 → 32 si quieres que minoritarias se vean más veces por epoch.\n",
        "\n",
        "Learning rate: probar 1e-3 o 5e-4 y usar ReduceLROnPlateau (ya incluido)."
      ],
      "metadata": {
        "id": "uu6y4w_cOA-C"
      }
    },
    {
      "cell_type": "code",
      "source": [
        "# --------------------------------------------\n",
        "# 3️⃣ Modelo\n",
        "# --------------------------------------------\n",
        "model = models.Sequential([\n",
        "    layers.Embedding(VOCAB_SIZE, EMB_DIM),  # quitado input_length (deprecated)\n",
        "    layers.SpatialDropout1D(0.2),\n",
        "    layers.LSTM(64, dropout=0.2, recurrent_dropout=0.2),\n",
        "    layers.Dropout(0.3),                    # dropout extra antes de la capa final\n",
        "    layers.Dense(len(classes), activation='softmax')\n",
        "])\n",
        "\n",
        "model.compile(\n",
        "    loss='categorical_crossentropy',\n",
        "    optimizer='adam',\n",
        "    metrics=['accuracy']\n",
        ")\n",
        "\n",
        "model.summary()"
      ],
      "metadata": {
        "colab": {
          "base_uri": "https://localhost:8080/",
          "height": 310
        },
        "id": "5u_gvvTGJxlL",
        "outputId": "311f829f-714a-4e56-9ca4-42fdd4e6ceb1"
      },
      "execution_count": 62,
      "outputs": [
        {
          "output_type": "display_data",
          "data": {
            "text/plain": [
              "\u001b[1mModel: \"sequential_3\"\u001b[0m\n"
            ],
            "text/html": [
              "<pre style=\"white-space:pre;overflow-x:auto;line-height:normal;font-family:Menlo,'DejaVu Sans Mono',consolas,'Courier New',monospace\"><span style=\"font-weight: bold\">Model: \"sequential_3\"</span>\n",
              "</pre>\n"
            ]
          },
          "metadata": {}
        },
        {
          "output_type": "display_data",
          "data": {
            "text/plain": [
              "┏━━━━━━━━━━━━━━━━━━━━━━━━━━━━━━━━━┳━━━━━━━━━━━━━━━━━━━━━━━━┳━━━━━━━━━━━━━━━┓\n",
              "┃\u001b[1m \u001b[0m\u001b[1mLayer (type)                   \u001b[0m\u001b[1m \u001b[0m┃\u001b[1m \u001b[0m\u001b[1mOutput Shape          \u001b[0m\u001b[1m \u001b[0m┃\u001b[1m \u001b[0m\u001b[1m      Param #\u001b[0m\u001b[1m \u001b[0m┃\n",
              "┡━━━━━━━━━━━━━━━━━━━━━━━━━━━━━━━━━╇━━━━━━━━━━━━━━━━━━━━━━━━╇━━━━━━━━━━━━━━━┩\n",
              "│ embedding_3 (\u001b[38;5;33mEmbedding\u001b[0m)         │ ?                      │   \u001b[38;5;34m0\u001b[0m (unbuilt) │\n",
              "├─────────────────────────────────┼────────────────────────┼───────────────┤\n",
              "│ spatial_dropout1d_3             │ ?                      │             \u001b[38;5;34m0\u001b[0m │\n",
              "│ (\u001b[38;5;33mSpatialDropout1D\u001b[0m)              │                        │               │\n",
              "├─────────────────────────────────┼────────────────────────┼───────────────┤\n",
              "│ lstm_3 (\u001b[38;5;33mLSTM\u001b[0m)                   │ ?                      │   \u001b[38;5;34m0\u001b[0m (unbuilt) │\n",
              "├─────────────────────────────────┼────────────────────────┼───────────────┤\n",
              "│ dropout_2 (\u001b[38;5;33mDropout\u001b[0m)             │ ?                      │             \u001b[38;5;34m0\u001b[0m │\n",
              "├─────────────────────────────────┼────────────────────────┼───────────────┤\n",
              "│ dense_3 (\u001b[38;5;33mDense\u001b[0m)                 │ ?                      │   \u001b[38;5;34m0\u001b[0m (unbuilt) │\n",
              "└─────────────────────────────────┴────────────────────────┴───────────────┘\n"
            ],
            "text/html": [
              "<pre style=\"white-space:pre;overflow-x:auto;line-height:normal;font-family:Menlo,'DejaVu Sans Mono',consolas,'Courier New',monospace\">┏━━━━━━━━━━━━━━━━━━━━━━━━━━━━━━━━━┳━━━━━━━━━━━━━━━━━━━━━━━━┳━━━━━━━━━━━━━━━┓\n",
              "┃<span style=\"font-weight: bold\"> Layer (type)                    </span>┃<span style=\"font-weight: bold\"> Output Shape           </span>┃<span style=\"font-weight: bold\">       Param # </span>┃\n",
              "┡━━━━━━━━━━━━━━━━━━━━━━━━━━━━━━━━━╇━━━━━━━━━━━━━━━━━━━━━━━━╇━━━━━━━━━━━━━━━┩\n",
              "│ embedding_3 (<span style=\"color: #0087ff; text-decoration-color: #0087ff\">Embedding</span>)         │ ?                      │   <span style=\"color: #00af00; text-decoration-color: #00af00\">0</span> (unbuilt) │\n",
              "├─────────────────────────────────┼────────────────────────┼───────────────┤\n",
              "│ spatial_dropout1d_3             │ ?                      │             <span style=\"color: #00af00; text-decoration-color: #00af00\">0</span> │\n",
              "│ (<span style=\"color: #0087ff; text-decoration-color: #0087ff\">SpatialDropout1D</span>)              │                        │               │\n",
              "├─────────────────────────────────┼────────────────────────┼───────────────┤\n",
              "│ lstm_3 (<span style=\"color: #0087ff; text-decoration-color: #0087ff\">LSTM</span>)                   │ ?                      │   <span style=\"color: #00af00; text-decoration-color: #00af00\">0</span> (unbuilt) │\n",
              "├─────────────────────────────────┼────────────────────────┼───────────────┤\n",
              "│ dropout_2 (<span style=\"color: #0087ff; text-decoration-color: #0087ff\">Dropout</span>)             │ ?                      │             <span style=\"color: #00af00; text-decoration-color: #00af00\">0</span> │\n",
              "├─────────────────────────────────┼────────────────────────┼───────────────┤\n",
              "│ dense_3 (<span style=\"color: #0087ff; text-decoration-color: #0087ff\">Dense</span>)                 │ ?                      │   <span style=\"color: #00af00; text-decoration-color: #00af00\">0</span> (unbuilt) │\n",
              "└─────────────────────────────────┴────────────────────────┴───────────────┘\n",
              "</pre>\n"
            ]
          },
          "metadata": {}
        },
        {
          "output_type": "display_data",
          "data": {
            "text/plain": [
              "\u001b[1m Total params: \u001b[0m\u001b[38;5;34m0\u001b[0m (0.00 B)\n"
            ],
            "text/html": [
              "<pre style=\"white-space:pre;overflow-x:auto;line-height:normal;font-family:Menlo,'DejaVu Sans Mono',consolas,'Courier New',monospace\"><span style=\"font-weight: bold\"> Total params: </span><span style=\"color: #00af00; text-decoration-color: #00af00\">0</span> (0.00 B)\n",
              "</pre>\n"
            ]
          },
          "metadata": {}
        },
        {
          "output_type": "display_data",
          "data": {
            "text/plain": [
              "\u001b[1m Trainable params: \u001b[0m\u001b[38;5;34m0\u001b[0m (0.00 B)\n"
            ],
            "text/html": [
              "<pre style=\"white-space:pre;overflow-x:auto;line-height:normal;font-family:Menlo,'DejaVu Sans Mono',consolas,'Courier New',monospace\"><span style=\"font-weight: bold\"> Trainable params: </span><span style=\"color: #00af00; text-decoration-color: #00af00\">0</span> (0.00 B)\n",
              "</pre>\n"
            ]
          },
          "metadata": {}
        },
        {
          "output_type": "display_data",
          "data": {
            "text/plain": [
              "\u001b[1m Non-trainable params: \u001b[0m\u001b[38;5;34m0\u001b[0m (0.00 B)\n"
            ],
            "text/html": [
              "<pre style=\"white-space:pre;overflow-x:auto;line-height:normal;font-family:Menlo,'DejaVu Sans Mono',consolas,'Courier New',monospace\"><span style=\"font-weight: bold\"> Non-trainable params: </span><span style=\"color: #00af00; text-decoration-color: #00af00\">0</span> (0.00 B)\n",
              "</pre>\n"
            ]
          },
          "metadata": {}
        }
      ]
    },
    {
      "cell_type": "code",
      "source": [
        "# --------------------------------------------\n",
        "# 4️⃣ Callbacks\n",
        "# --------------------------------------------\n",
        "from tensorflow.keras.callbacks import EarlyStopping, ReduceLROnPlateau\n",
        "\n",
        "early_stop = EarlyStopping(\n",
        "    monitor='val_loss',\n",
        "    patience=5,\n",
        "    restore_best_weights=True\n",
        ")\n",
        "\n",
        "reduce_lr = ReduceLROnPlateau(\n",
        "    monitor='val_loss',\n",
        "    factor=0.5,\n",
        "    patience=2,\n",
        "    min_lr=1e-6\n",
        ")"
      ],
      "metadata": {
        "id": "2TxzRtogJxio"
      },
      "execution_count": 63,
      "outputs": []
    },
    {
      "cell_type": "code",
      "source": [
        "# ============================================\n",
        "#  @title Entrenamiento\n",
        "# ============================================\n",
        "history = model.fit(\n",
        "    X_res,\n",
        "    y_res_oh,\n",
        "    batch_size=64,\n",
        "    epochs=20,\n",
        "    validation_data=(X_dev, y_dev_oh),\n",
        "    class_weight=weight_dict,\n",
        "    callbacks=[early_stop, reduce_lr]\n",
        ")"
      ],
      "metadata": {
        "colab": {
          "base_uri": "https://localhost:8080/"
        },
        "id": "Uf07QR2JDPGK",
        "outputId": "e0082e47-8cb1-49c5-aaec-c57f62b37285"
      },
      "execution_count": 64,
      "outputs": [
        {
          "output_type": "stream",
          "name": "stdout",
          "text": [
            "Epoch 1/20\n",
            "\u001b[1m102/102\u001b[0m \u001b[32m━━━━━━━━━━━━━━━━━━━━\u001b[0m\u001b[37m\u001b[0m \u001b[1m17s\u001b[0m 118ms/step - accuracy: 0.0455 - loss: 2.6848 - val_accuracy: 0.0391 - val_loss: 2.2164 - learning_rate: 0.0010\n",
            "Epoch 2/20\n",
            "\u001b[1m102/102\u001b[0m \u001b[32m━━━━━━━━━━━━━━━━━━━━\u001b[0m\u001b[37m\u001b[0m \u001b[1m19s\u001b[0m 107ms/step - accuracy: 0.0774 - loss: 2.5222 - val_accuracy: 0.0367 - val_loss: 2.0935 - learning_rate: 0.0010\n",
            "Epoch 3/20\n",
            "\u001b[1m102/102\u001b[0m \u001b[32m━━━━━━━━━━━━━━━━━━━━\u001b[0m\u001b[37m\u001b[0m \u001b[1m10s\u001b[0m 97ms/step - accuracy: 0.0959 - loss: 2.3331 - val_accuracy: 0.0664 - val_loss: 2.0874 - learning_rate: 0.0010\n",
            "Epoch 4/20\n",
            "\u001b[1m102/102\u001b[0m \u001b[32m━━━━━━━━━━━━━━━━━━━━\u001b[0m\u001b[37m\u001b[0m \u001b[1m12s\u001b[0m 115ms/step - accuracy: 0.1005 - loss: 2.1075 - val_accuracy: 0.2322 - val_loss: 1.9162 - learning_rate: 0.0010\n",
            "Epoch 5/20\n",
            "\u001b[1m102/102\u001b[0m \u001b[32m━━━━━━━━━━━━━━━━━━━━\u001b[0m\u001b[37m\u001b[0m \u001b[1m20s\u001b[0m 110ms/step - accuracy: 0.1677 - loss: 2.0748 - val_accuracy: 0.2678 - val_loss: 2.0885 - learning_rate: 0.0010\n",
            "Epoch 6/20\n",
            "\u001b[1m102/102\u001b[0m \u001b[32m━━━━━━━━━━━━━━━━━━━━\u001b[0m\u001b[37m\u001b[0m \u001b[1m21s\u001b[0m 113ms/step - accuracy: 0.1775 - loss: 2.0219 - val_accuracy: 0.2571 - val_loss: 2.1919 - learning_rate: 0.0010\n",
            "Epoch 7/20\n",
            "\u001b[1m102/102\u001b[0m \u001b[32m━━━━━━━━━━━━━━━━━━━━\u001b[0m\u001b[37m\u001b[0m \u001b[1m20s\u001b[0m 112ms/step - accuracy: 0.2434 - loss: 1.9738 - val_accuracy: 0.1493 - val_loss: 1.8525 - learning_rate: 5.0000e-04\n",
            "Epoch 8/20\n",
            "\u001b[1m102/102\u001b[0m \u001b[32m━━━━━━━━━━━━━━━━━━━━\u001b[0m\u001b[37m\u001b[0m \u001b[1m10s\u001b[0m 98ms/step - accuracy: 0.2439 - loss: 1.8557 - val_accuracy: 0.2168 - val_loss: 1.9824 - learning_rate: 5.0000e-04\n",
            "Epoch 9/20\n",
            "\u001b[1m102/102\u001b[0m \u001b[32m━━━━━━━━━━━━━━━━━━━━\u001b[0m\u001b[37m\u001b[0m \u001b[1m11s\u001b[0m 106ms/step - accuracy: 0.2947 - loss: 1.7757 - val_accuracy: 0.2654 - val_loss: 1.7872 - learning_rate: 5.0000e-04\n",
            "Epoch 10/20\n",
            "\u001b[1m102/102\u001b[0m \u001b[32m━━━━━━━━━━━━━━━━━━━━\u001b[0m\u001b[37m\u001b[0m \u001b[1m21s\u001b[0m 110ms/step - accuracy: 0.2930 - loss: 1.7244 - val_accuracy: 0.1220 - val_loss: 1.8522 - learning_rate: 5.0000e-04\n",
            "Epoch 11/20\n",
            "\u001b[1m102/102\u001b[0m \u001b[32m━━━━━━━━━━━━━━━━━━━━\u001b[0m\u001b[37m\u001b[0m \u001b[1m20s\u001b[0m 106ms/step - accuracy: 0.2185 - loss: 1.7663 - val_accuracy: 0.1410 - val_loss: 1.8960 - learning_rate: 5.0000e-04\n",
            "Epoch 12/20\n",
            "\u001b[1m102/102\u001b[0m \u001b[32m━━━━━━━━━━━━━━━━━━━━\u001b[0m\u001b[37m\u001b[0m \u001b[1m21s\u001b[0m 108ms/step - accuracy: 0.2441 - loss: 1.5983 - val_accuracy: 0.1374 - val_loss: 1.9819 - learning_rate: 2.5000e-04\n",
            "Epoch 13/20\n",
            "\u001b[1m102/102\u001b[0m \u001b[32m━━━━━━━━━━━━━━━━━━━━\u001b[0m\u001b[37m\u001b[0m \u001b[1m20s\u001b[0m 106ms/step - accuracy: 0.2684 - loss: 1.4967 - val_accuracy: 0.1445 - val_loss: 1.9449 - learning_rate: 2.5000e-04\n",
            "Epoch 14/20\n",
            "\u001b[1m102/102\u001b[0m \u001b[32m━━━━━━━━━━━━━━━━━━━━\u001b[0m\u001b[37m\u001b[0m \u001b[1m21s\u001b[0m 110ms/step - accuracy: 0.2999 - loss: 1.5538 - val_accuracy: 0.1611 - val_loss: 1.8753 - learning_rate: 1.2500e-04\n"
          ]
        }
      ]
    },
    {
      "cell_type": "code",
      "source": [
        "# ============================================\n",
        "#  @title Evaluación completa del modelo\n",
        "# ============================================\n",
        "from sklearn.metrics import classification_report, confusion_matrix\n",
        "import seaborn as sns\n",
        "import matplotlib.pyplot as plt\n",
        "import pandas as pd\n",
        "import numpy as np"
      ],
      "metadata": {
        "id": "o2gtP_CADPDY"
      },
      "execution_count": 65,
      "outputs": []
    },
    {
      "cell_type": "code",
      "source": [
        "# 1️⃣ Predicciones\n",
        "y_pred = model.predict(X_test)\n",
        "y_pred_labels = np.argmax(y_pred, axis=1)"
      ],
      "metadata": {
        "colab": {
          "base_uri": "https://localhost:8080/"
        },
        "id": "nUSDKMI3Ku8h",
        "outputId": "789d16a9-595f-4a87-a829-067ed45a4957"
      },
      "execution_count": 66,
      "outputs": [
        {
          "output_type": "stream",
          "name": "stdout",
          "text": [
            "\u001b[1m52/52\u001b[0m \u001b[32m━━━━━━━━━━━━━━━━━━━━\u001b[0m\u001b[37m\u001b[0m \u001b[1m2s\u001b[0m 22ms/step\n"
          ]
        }
      ]
    },
    {
      "cell_type": "code",
      "source": [
        "# 2️⃣ Classification report por emoción\n",
        "print(\"===== Classification Report por emoción =====\")\n",
        "print(classification_report(y_test, y_pred_labels, target_names=le.classes_))"
      ],
      "metadata": {
        "colab": {
          "base_uri": "https://localhost:8080/"
        },
        "id": "63V6l07SKu15",
        "outputId": "9a4d0ef4-ab85-4d0f-ca92-337a0c568a79"
      },
      "execution_count": 67,
      "outputs": [
        {
          "output_type": "stream",
          "name": "stdout",
          "text": [
            "===== Classification Report por emoción =====\n",
            "              precision    recall  f1-score   support\n",
            "\n",
            "       anger       0.08      0.03      0.04       168\n",
            "     disgust       0.02      0.18      0.03        33\n",
            "        fear       0.00      0.00      0.00        21\n",
            "         joy       0.22      0.58      0.32       354\n",
            "      others       0.52      0.06      0.10       814\n",
            "     sadness       0.13      0.08      0.09       199\n",
            "    surprise       0.00      0.00      0.00        67\n",
            "\n",
            "    accuracy                           0.17      1656\n",
            "   macro avg       0.14      0.13      0.08      1656\n",
            "weighted avg       0.33      0.17      0.13      1656\n",
            "\n"
          ]
        }
      ]
    },
    {
      "cell_type": "code",
      "source": [
        "# 3️⃣ Matriz de confusión\n",
        "cm = confusion_matrix(y_test, y_pred_labels)\n",
        "plt.figure(figsize=(8,6))\n",
        "sns.heatmap(cm, annot=True, fmt='d', cmap='Blues', xticklabels=le.classes_, yticklabels=le.classes_)\n",
        "plt.xlabel(\"Predicted\")\n",
        "plt.ylabel(\"Real\")\n",
        "plt.title(\"Matriz de Confusión\")\n",
        "plt.show()"
      ],
      "metadata": {
        "colab": {
          "base_uri": "https://localhost:8080/",
          "height": 564
        },
        "id": "3wTgD6muK03e",
        "outputId": "5185b1f5-ef3f-4106-ee59-d56f50266694"
      },
      "execution_count": 68,
      "outputs": [
        {
          "output_type": "display_data",
          "data": {
            "text/plain": [
              "<Figure size 800x600 with 2 Axes>"
            ],
            "image/png": "[encoded data removed]"
          },
          "metadata": {}
        }
      ]
    },
    {
      "cell_type": "code",
      "source": [
        "# 4️⃣ Análisis por evento\n",
        "df_test = pd.DataFrame({\n",
        "    'event': test_df['event'],  # tu dataframe original de test\n",
        "    'y_true': y_test,\n",
        "    'y_pred': y_pred_labels\n",
        "})"
      ],
      "metadata": {
        "id": "KJMA1PcPK0vS"
      },
      "execution_count": 69,
      "outputs": []
    },
    {
      "cell_type": "code",
      "source": [
        "# Agrupar por evento y calcular accuracy\n",
        "event_analysis = df_test.groupby('event').apply(\n",
        "    lambda x: pd.Series({\n",
        "        'accuracy': (x['y_true']==x['y_pred']).mean(),\n",
        "        'n_samples': len(x)\n",
        "    })\n",
        ").sort_values(by='accuracy', ascending=False)\n",
        "\n",
        "print(\"===== Análisis por evento =====\")\n",
        "print(event_analysis)"
      ],
      "metadata": {
        "colab": {
          "base_uri": "https://localhost:8080/"
        },
        "id": "ZmXskRAJK3GB",
        "outputId": "76752e90-94cf-45a7-af8c-2606e208ab28"
      },
      "execution_count": 70,
      "outputs": [
        {
          "output_type": "stream",
          "name": "stdout",
          "text": [
            "===== Análisis por evento =====\n",
            "                 accuracy  n_samples\n",
            "event                               \n",
            "WorldBookDay     0.216667      240.0\n",
            "ChampionsLeague  0.215517      232.0\n",
            "LaLiga           0.201681      119.0\n",
            "SpainElection    0.178899      218.0\n",
            "GretaThunberg    0.172662      139.0\n",
            "GameOfThrones    0.150685      219.0\n",
            "Venezuela        0.115385      234.0\n",
            "NotreDame        0.097778      225.0\n"
          ]
        },
        {
          "output_type": "stream",
          "name": "stderr",
          "text": [
            "/tmp/ipython-input-3992987716.py:2: DeprecationWarning: DataFrameGroupBy.apply operated on the grouping columns. This behavior is deprecated, and in a future version of pandas the grouping columns will be excluded from the operation. Either pass `include_groups=False` to exclude the groupings or explicitly select the grouping columns after groupby to silence this warning.\n",
            "  event_analysis = df_test.groupby('event').apply(\n"
          ]
        }
      ]
    },
    {
      "cell_type": "code",
      "source": [
        "# 5️⃣ Distribución de errores por emoción dentro de cada evento (opcional)\n",
        "for event in df_test['event'].unique():\n",
        "    event_df = df_test[df_test['event']==event]\n",
        "    cm_event = confusion_matrix(event_df['y_true'], event_df['y_pred'], labels=range(len(le.classes_)))\n",
        "    print(f\"\\nMatriz de confusión para evento: {event} (n={len(event_df)})\")\n",
        "    print(pd.DataFrame(cm_event, index=le.classes_, columns=le.classes_))"
      ],
      "metadata": {
        "colab": {
          "base_uri": "https://localhost:8080/"
        },
        "id": "pqXQPk_KK3Db",
        "outputId": "c576c817-92e2-40e5-89d3-d73bec519740"
      },
      "execution_count": 71,
      "outputs": [
        {
          "output_type": "stream",
          "name": "stdout",
          "text": [
            "\n",
            "Matriz de confusión para evento: GameOfThrones (n=219)\n",
            "          anger  disgust  fear  joy  others  sadness  surprise\n",
            "anger         0        5     4   11       2        0         0\n",
            "disgust       0        0     3    3       0        0         0\n",
            "fear          0        0     0    3       0        0         0\n",
            "joy           0        9    10   22       5        1         0\n",
            "others        2       17    33   40      11        1         0\n",
            "sadness       0        7     9   10       1        0         0\n",
            "surprise      0        3     4    3       0        0         0\n",
            "\n",
            "Matriz de confusión para evento: SpainElection (n=218)\n",
            "          anger  disgust  fear  joy  others  sadness  surprise\n",
            "anger         0        7     1   14       0        0         0\n",
            "disgust       0        3     0    2       0        0         0\n",
            "fear          0        1     0    4       0        0         0\n",
            "joy           2       12     5   23       3        1         0\n",
            "others        2       27    13   52      13        0         0\n",
            "sadness       0        7     1    8       5        0         0\n",
            "surprise      0        5     1    6       0        0         0\n",
            "\n",
            "Matriz de confusión para evento: WorldBookDay (n=240)\n",
            "          anger  disgust  fear  joy  others  sadness  surprise\n",
            "anger         0        4     0   18       1        0         0\n",
            "disgust       0        1     0    4       0        0         0\n",
            "fear          0        0     0    3       0        0         0\n",
            "joy           0        2     1   48       1        0         0\n",
            "others        2        7     3  100       3        0         0\n",
            "sadness       2        0     1   31       1        0         0\n",
            "surprise      0        0     0    7       0        0         0\n",
            "\n",
            "Matriz de confusión para evento: Venezuela (n=234)\n",
            "          anger  disgust  fear  joy  others  sadness  surprise\n",
            "anger         1       10     1    8       0        1         0\n",
            "disgust       1        0     0    2       0        0         0\n",
            "fear          1        3     0    0       0        0         0\n",
            "joy           2       17     0   18       2        3         0\n",
            "others        4       63     2   45       8        2         0\n",
            "sadness       2       12     2   13       1        0         0\n",
            "surprise      1        7     0    1       1        0         0\n",
            "\n",
            "Matriz de confusión para evento: LaLiga (n=119)\n",
            "          anger  disgust  fear  joy  others  sadness  surprise\n",
            "anger         0        2     0   11       0        0         0\n",
            "disgust       0        0     0    3       0        0         0\n",
            "fear          0        0     0    2       0        0         0\n",
            "joy           0        5     1   24       2        0         0\n",
            "others        0        7     0   50       0        0         0\n",
            "sadness       0        0     0    7       0        0         0\n",
            "surprise      0        2     0    3       0        0         0\n",
            "\n",
            "Matriz de confusión para evento: NotreDame (n=225)\n",
            "          anger  disgust  fear  joy  others  sadness  surprise\n",
            "anger         2        6     0    3       0       12         0\n",
            "disgust       0        1     1    0       0        2         0\n",
            "fear          0        0     0    0       0        0         0\n",
            "joy           6       11     0    2       1       18         0\n",
            "others       23       36     0    5       2       56         0\n",
            "sadness       3        7     0    0       1       15         0\n",
            "surprise      3        4     0    0       0        5         0\n",
            "\n",
            "Matriz de confusión para evento: GretaThunberg (n=139)\n",
            "          anger  disgust  fear  joy  others  sadness  surprise\n",
            "anger         2        3     1    6       0        0         0\n",
            "disgust       0        0     0    1       0        0         0\n",
            "fear          0        1     0    1       0        0         0\n",
            "joy           1        7     0   17       3        0         0\n",
            "others        0        9     1   52       5        0         1\n",
            "sadness       0        5     1   15       1        0         0\n",
            "surprise      0        1     0    4       1        0         0\n",
            "\n",
            "Matriz de confusión para evento: ChampionsLeague (n=232)\n",
            "          anger  disgust  fear  joy  others  sadness  surprise\n",
            "anger         0        4     0   24       2        0         0\n",
            "disgust       0        1     2    3       0        0         0\n",
            "fear          0        0     0    2       0        0         0\n",
            "joy           2        9     1   46       5        0         0\n",
            "others        0       10     2   84       3        0         0\n",
            "sadness       0        3     1   20       3        0         0\n",
            "surprise      0        2     0    3       0        0         0\n",
            "\n",
            "Matriz de confusión para evento: nan (n=0)\n",
            "          anger  disgust  fear  joy  others  sadness  surprise\n",
            "anger         0        0     0    0       0        0         0\n",
            "disgust       0        0     0    0       0        0         0\n",
            "fear          0        0     0    0       0        0         0\n",
            "joy           0        0     0    0       0        0         0\n",
            "others        0        0     0    0       0        0         0\n",
            "sadness       0        0     0    0       0        0         0\n",
            "surprise      0        0     0    0       0        0         0\n"
          ]
        }
      ]
    },
    {
      "cell_type": "markdown",
      "source": [
        "#______________________________________________________________"
      ],
      "metadata": {
        "id": "efRGUwL8DP5a"
      }
    },
    {
      "cell_type": "markdown",
      "source": [
        "#**Evaluación Global y hallazgos clave**\n",
        "En el entrenamiento de la última versión del modelo LSTM, se observó que la clase joy obtuvo un recall notablemente superior (0.58) y un F1 de 0.32, mientras que clases mayoritarias como others y minoritarias como fear, surprise y anger presentaron recall muy bajo o nulo, resultando en una accuracy global de apenas 0.17. Este patrón evidencia un **problema de desbalance de clases y dificultad del modelo para capturar emociones poco frecuentes**, aun cuando se optimizó el preprocesamiento para conservar elementos clave de los tweets como emojis, hashtags y signos de énfasis.\n",
        "\n",
        "Las limitaciones actuales reflejan que, aunque ciertos elementos textuales ayudan a predecir emociones positivas, la distribución desigual y la complejidad del lenguaje en redes sociales generan predicciones inconsistentes en otras categorías.\n",
        "\n",
        "Estos resultados sugieren que futuras implementaciones deberían enfocarse en técnicas de balanceo más sofisticadas, data augmentation textual y ajustes de arquitectura o hiperparámetros, para mejorar la cobertura de todas las emociones y la robustez del modelo."
      ],
      "metadata": {
        "id": "ZETWDykYV_NU"
      }
    }
  ]
}